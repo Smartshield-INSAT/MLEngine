{
 "cells": [
  {
   "cell_type": "markdown",
   "metadata": {},
   "source": [
    "## Testing the DetectionModel Class\n",
    "\n",
    "In this notebook, we will test the `DetectionModel` class using a sample dataset. The steps involved in this process are as follows:\n",
    "\n",
    "1. **Import the CatModel Class**: We start by importing the `DetectionModel` class from the `DetectionModel` module.\n",
    "2. **Load the Sample Data**: We use a sample dataset stored in a Parquet file named `10_samples.parquet`. This file contains 10 samples that we will use to test the model.\n",
    "3. **Initialize the Model**: We create an instance of the `DetectionModel` class by passing the path to the sample dataset.\n",
    "4. **Predict the Results**: Using the `predict()` method of the `DetectionModel` instance, we generate predictions based on the sample data.\n",
    "5. **Display the Results**: Finally, we print the predicted results to verify the model's performance.\n"
   ]
  },
  {
   "cell_type": "code",
   "execution_count": 1,
   "metadata": {},
   "outputs": [
    {
     "name": "stdout",
     "output_type": "stream",
     "text": [
      "[1 0 0 1 0 0 0 1 0 0]\n"
     ]
    }
   ],
   "source": [
    "import sys\n",
    "import pandas as pd\n",
    "import warnings\n",
    "warnings.filterwarnings(\"ignore\")\n",
    "sys.path.append('../../')\n",
    "import src.models.UNSW_NB15_models.DetectionModel as models\n",
    "# Test the model with the 10 samples provided in the parquet file\n",
    "sample_path = \"10_samples.parquet\"\n",
    "sample_data = pd.read_parquet(sample_path)\n",
    "# Load the model\n",
    "test_model = models.DetectionModel()\n",
    "\n",
    "# Predict the results\n",
    "test_results = test_model.predict(sample_data)\n",
    "\n",
    "print(test_results)"
   ]
  }
 ],
 "metadata": {
  "kernelspec": {
   "display_name": ".venv",
   "language": "python",
   "name": "python3"
  },
  "language_info": {
   "codemirror_mode": {
    "name": "ipython",
    "version": 3
   },
   "file_extension": ".py",
   "mimetype": "text/x-python",
   "name": "python",
   "nbconvert_exporter": "python",
   "pygments_lexer": "ipython3",
   "version": "3.12.2"
  }
 },
 "nbformat": 4,
 "nbformat_minor": 2
}
