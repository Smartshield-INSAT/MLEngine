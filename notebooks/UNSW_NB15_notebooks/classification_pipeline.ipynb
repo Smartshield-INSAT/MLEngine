{
 "cells": [
  {
   "cell_type": "markdown",
   "metadata": {},
   "source": [
    "# Importing Libraries"
   ]
  },
  {
   "cell_type": "code",
   "execution_count": 1,
   "metadata": {
    "execution": {
     "iopub.execute_input": "2024-11-05T20:07:11.656332Z",
     "iopub.status.busy": "2024-11-05T20:07:11.656033Z",
     "iopub.status.idle": "2024-11-05T20:07:15.608439Z",
     "shell.execute_reply": "2024-11-05T20:07:15.607326Z",
     "shell.execute_reply.started": "2024-11-05T20:07:11.656291Z"
    },
    "executionInfo": {
     "elapsed": 3,
     "status": "ok",
     "timestamp": 1729075875090,
     "user": {
      "displayName": "Haouas Med Amine",
      "userId": "10721525835865282645"
     },
     "user_tz": -60
    },
    "id": "TnnsSHZFpPrH",
    "trusted": true
   },
   "outputs": [],
   "source": [
    "import numpy as np\n",
    "import pandas as pd\n",
    "import matplotlib.pyplot as plt\n",
    "import plotly.express as px\n",
    "import seaborn as sns\n",
    "import optuna\n",
    "import warnings\n",
    "\n",
    "from collections import Counter\n",
    "from sklearn.model_selection import train_test_split\n",
    "from catboost import CatBoostClassifier, Pool\n",
    "from sklearn.metrics import f1_score, precision_score, recall_score, roc_auc_score, confusion_matrix\n",
    "\n",
    "\n",
    "warnings.filterwarnings(\"ignore\")"
   ]
  },
  {
   "cell_type": "markdown",
   "metadata": {},
   "source": [
    "# Model Pipeline"
   ]
  },
  {
   "cell_type": "code",
   "execution_count": null,
   "metadata": {
    "colab": {
     "base_uri": "https://localhost:8080/",
     "height": 383
    },
    "execution": {
     "iopub.execute_input": "2024-11-05T20:07:15.611346Z",
     "iopub.status.busy": "2024-11-05T20:07:15.610748Z",
     "iopub.status.idle": "2024-11-05T20:07:15.682432Z",
     "shell.execute_reply": "2024-11-05T20:07:15.681300Z",
     "shell.execute_reply.started": "2024-11-05T20:07:15.611301Z"
    },
    "executionInfo": {
     "elapsed": 1129,
     "status": "error",
     "timestamp": 1729078923319,
     "user": {
      "displayName": "Haouas Med Amine",
      "userId": "10721525835865282645"
     },
     "user_tz": -60
    },
    "id": "ihmL5zYWbbAR",
    "outputId": "811cea4f-e6c2-484d-d919-cf890aae98f0",
    "trusted": true
   },
   "outputs": [],
   "source": [
    "class CatBoostPipeline:\n",
    "    \"\"\"\n",
    "    Class to preprocess the dataset and train the CatBoost model\n",
    "\n",
    "    Attributes:\n",
    "        train_df : DataFrame : Training DataFrame\n",
    "        test_df : DataFrame : Test DataFrame\n",
    "        categorical_features : List : Categorical features in the dataset\n",
    "        numerical_features : List : Numerical features in the dataset\n",
    "        model : CatBoostClassifier : Trained CatBoost model\n",
    "        top_prop_categories : List : Top categories for 'proto' column\n",
    "        top_service_categories : List : Top categories for 'service' column\n",
    "        top_state_categories : List : Top categories for 'state' column\n",
    "        corr_threshold : float : Correlation threshold for removing highly correlated features\n",
    "        features_to_drop : List : Features to drop from the dataset\n",
    "\n",
    "    Methods:\n",
    "        basic_cleaning : Perform basic cleaning on the dataset\n",
    "        identify_feature_types : Identify the feature types in the dataset\n",
    "        handle_outliers : Handle outliers in the dataset\n",
    "        convert_data_types : Convert the data types of the columns in the dataset\n",
    "        selecting_categories : Select the top categories for the 'proto', 'service', and 'state' columns\n",
    "        transform_categories : Transform the categories in the 'proto', 'service', and 'state' columns\n",
    "        create_log1p_features : Create log1p features for the numerical columns in the dataset\n",
    "        remove_highly_correlated_features : Remove highly correlated features from the dataset\n",
    "        preprocess : Perform preprocessing on the dataset\n",
    "        create_pool : Create a CatBoost Pool object\n",
    "        train_model : Train the CatBoost model\n",
    "        objective : Objective function for Optuna hyperparameter tuning\n",
    "        optuna_tuning : Perform hyperparameter tuning using Optuna\n",
    "        train_with_optuna : Train the CatBoost model with hyperparameter tuning using Optuna\n",
    "\n",
    "    \"\"\"\n",
    "    def __init__(self, train_file_path, test_file_path):\n",
    "        self.train_df = pd.read_parquet(train_file_path)\n",
    "        self.test_df = pd.read_parquet(test_file_path)\n",
    "        self.categorical_features = []\n",
    "        self.numerical_features = []\n",
    "        self.model = None\n",
    "        self.top_prop_categories = None\n",
    "        self.top_service_categories = None\n",
    "        self.top_state_categories = None\n",
    "        self.corr_threshold = 0.9\n",
    "        self.features_to_drop = []  # Store features to drop\n",
    "\n",
    "    def basic_cleaning(self, df):\n",
    "        \"\"\"\n",
    "        Perform basic cleaning on the dataset\n",
    "\n",
    "        Args:\n",
    "            df : DataFrame : Input DataFrame\n",
    "\n",
    "        Returns:\n",
    "            df :DataFrame : Cleaned DataFrame\n",
    "        \"\"\"\n",
    "        columns_to_drop = ['swin', 'stcpb', 'dtcpb', 'dwin', 'label', 'is_sm_ips_ports', 'response_body_len', 'rate']\n",
    "        df = df[~df['attack_cat'].isin(['Normal', 'Analysis', 'Shellcode', 'Worms', 'Backdoor'])]\n",
    "        epsilon = 1e-10  # Small constant to avoid division by zero\n",
    "\n",
    "        df[\"Speed of Operations to Speed of Data Bytes\"] = np.log1p(df[\"sbytes\"] / (df[\"dbytes\"] + epsilon))\n",
    "        df[\"Time for a Single Process\"] = np.log1p(df[\"dur\"] / (df[\"spkts\"] + epsilon))\n",
    "        df[\"Ratio of Data Flow\"] = np.log1p(df[\"dbytes\"] / (df[\"sbytes\"] + epsilon))\n",
    "        df[\"Ratio of Packet Flow\"] = np.log1p(df[\"dpkts\"] / (df[\"spkts\"] + epsilon))\n",
    "        df[\"Total Page Errors\"] = np.log1p(df[\"dur\"] * df[\"sloss\"])\n",
    "        df[\"Network Usage\"] = np.log1p(df[\"sbytes\"] + df[\"dbytes\"])\n",
    "        df[\"Network Activity Rate\"] = np.log1p(df[\"spkts\"] + df[\"dpkts\"])\n",
    "        \n",
    "        return df.drop(columns=columns_to_drop, axis=1)\n",
    "\n",
    "    def identify_feature_types(self, df):\n",
    "        \"\"\"\n",
    "        Identify the feature types in the dataset\n",
    "\n",
    "        Args:\n",
    "            df : DataFrame : Input DataFrame\n",
    "\n",
    "        Returns:\n",
    "            None\n",
    "        \"\"\"\n",
    "        self.categorical_features = df.select_dtypes(include=['category', 'object']).columns.tolist()\n",
    "        self.numerical_features = df.select_dtypes(include=['int8', 'int16', 'int32', 'int64', 'float32']).columns.tolist()\n",
    "        self.categorical_features = [col for col in self.categorical_features if col != 'attack_cat']\n",
    "\n",
    "    def handle_outliers(self, df):\n",
    "        \"\"\"\n",
    "        Handle outliers in the dataset\n",
    "\n",
    "        Args:\n",
    "            df : DataFrame : Input DataFrame\n",
    "\n",
    "        Returns:\n",
    "            DataFrame : DataFrame with outliers handled\n",
    "        \"\"\"\n",
    "        for column in self.numerical_features:\n",
    "            lower_bound = df[column].quantile(0.001)\n",
    "            upper_bound = df[column].quantile(0.999)\n",
    "            df[column] = df[column].clip(lower_bound, upper_bound)\n",
    "        return df\n",
    "\n",
    "    def convert_data_types(self, df):\n",
    "        \"\"\"\n",
    "        Convert the data types of the columns in the dataset\n",
    "\n",
    "        Args:\n",
    "            df : DataFrame : Input DataFrame\n",
    "\n",
    "        Returns:\n",
    "            DataFrame : DataFrame with converted data types\n",
    "        \"\"\"\n",
    "        for column in self.categorical_features:\n",
    "            df[column] = df[column].astype('category')\n",
    "        for column in self.numerical_features:\n",
    "            df[column] = df[column].astype('float32')\n",
    "        return df\n",
    "\n",
    "    def selecting_categories(self, df):\n",
    "        \"\"\"\n",
    "        Select the top categories for the 'proto', 'service', and 'state' columns\n",
    "\n",
    "        Args:\n",
    "            df : DataFrame : Input DataFrame\n",
    "\n",
    "        Returns:\n",
    "            Tuple : Top categories for 'proto', 'service', and 'state' columns\n",
    "        \"\"\"\n",
    "        top_prop_categories = df['proto'].value_counts().head().index\n",
    "        top_service_categories = df['service'].value_counts().head().index\n",
    "        top_state_categories = df['state'].value_counts().head(5).index\n",
    "        return top_prop_categories, top_service_categories, top_state_categories\n",
    "\n",
    "    def transform_categories(self, df, top_prop_categories, top_service_categories, top_state_categories):\n",
    "        \"\"\"\n",
    "        Transform the categories in the 'proto', 'service', and 'state' columns\n",
    "\n",
    "        Args:\n",
    "            df : DataFrame : Input DataFrame\n",
    "            top_prop_categories : List : Top categories for 'proto' column\n",
    "            top_service_categories : List : Top categories for 'service' column\n",
    "            top_state_categories : List : Top categories for 'state' column\n",
    "\n",
    "        Returns:\n",
    "            DataFrame : DataFrame with transformed categories\n",
    "        \"\"\"\n",
    "        df['proto'] = np.where(df['proto'].isin(top_prop_categories), df['proto'], '-')\n",
    "        df['service'] = np.where(df['service'].isin(top_service_categories), df['service'], '-')\n",
    "        df['state'] = np.where(df['state'].isin(top_state_categories), df['state'], '-')\n",
    "        return df\n",
    "\n",
    "    def create_log1p_features(self, df):\n",
    "        \"\"\"\n",
    "        Create log1p features for the numerical columns in the dataset\n",
    "\n",
    "        Args:\n",
    "            df : DataFrame : Input DataFrame\n",
    "\n",
    "        Returns:\n",
    "            DataFrame : DataFrame with log1p features\n",
    "        \"\"\"\n",
    "        log_features = [\n",
    "            'smean', 'dmean',\n",
    "            'sinpkt', 'dinpkt', 'sload', 'dload', 'sbytes', 'dbytes',\n",
    "            'sjit', 'djit',\n",
    "        ]\n",
    "        for feature in log_features:\n",
    "            if feature in df.columns:\n",
    "                df[feature] = np.log1p(df[feature])\n",
    "\n",
    "        return df\n",
    "    \n",
    "    def remove_highly_correlated_features(self, df, is_train=True):\n",
    "        \"\"\"\n",
    "        Remove highly correlated features from the dataset\n",
    "\n",
    "        Args:\n",
    "            df : DataFrame : Input DataFrame\n",
    "            is_train : bool : Whether the dataset is the training set\n",
    "\n",
    "        Returns:\n",
    "            DataFrame : DataFrame with highly correlated features removed\n",
    "        \"\"\"\n",
    "        if is_train:\n",
    "            corr_matrix = df[self.numerical_features].corr().abs()  # Get the correlation matrix of numerical features\n",
    "            upper_triangle = corr_matrix.where(np.triu(np.ones(corr_matrix.shape), k=1).astype(bool))\n",
    "\n",
    "            # Find features that have a correlation greater than the threshold\n",
    "            self.features_to_drop = [column for column in upper_triangle.columns if any(upper_triangle[column] > self.corr_threshold)]\n",
    "            print(f\"Removing highly correlated features in training: {self.features_to_drop}\")\n",
    "        else:\n",
    "            print(f\"Removing same highly correlated features in test: {self.features_to_drop}\")\n",
    "        \n",
    "        # Drop the highly correlated features (based on train set) from the dataframe\n",
    "        df = df.drop(columns=self.features_to_drop, axis=1)\n",
    "\n",
    "        # Update the numerical features list after dropping the highly correlated features\n",
    "        self.numerical_features = [col for col in self.numerical_features if col not in self.features_to_drop]\n",
    "        return df\n",
    "\n",
    "\n",
    "    def preprocess(self, is_train=True):\n",
    "        \"\"\"\n",
    "        Perform preprocessing on the dataset\n",
    "\n",
    "        Args:\n",
    "            is_train : bool : Whether the dataset is the training set\n",
    "\n",
    "        Returns:\n",
    "            Tuple : X, y\n",
    "        \"\"\"\n",
    "        # Get the DataFrame based on whether it is the training set or not\n",
    "        df = self.train_df if is_train else self.test_df\n",
    "\n",
    "        # Basic cleaning\n",
    "        df = self.basic_cleaning(df)\n",
    "\n",
    "        # Identify feature types\n",
    "        self.identify_feature_types(df)\n",
    "\n",
    "        # Handle outliers\n",
    "        df = self.handle_outliers(df) if is_train else df\n",
    "\n",
    "        # Select top categories\n",
    "        self.top_prop_categories, self.top_service_categories, self.top_state_categories = self.selecting_categories(df) if is_train else (self.top_prop_categories, self.top_service_categories, self.top_state_categories)\n",
    "\n",
    "        # Transform categories\n",
    "        df = self.transform_categories(df, self.top_prop_categories, self.top_service_categories, self.top_state_categories)\n",
    "        \n",
    "        # Log1p Feature Creation\n",
    "        df = self.create_log1p_features(df)\n",
    "\n",
    "        # Remove highly correlated features (use same features for both train and test)\n",
    "        df = self.remove_highly_correlated_features(df, is_train=is_train)\n",
    "\n",
    "        # Convert data types\n",
    "        df = self.convert_data_types(df)\n",
    "        \n",
    "        # Separate features and target\n",
    "        X = df.drop('attack_cat', axis=1)\n",
    "        y = df['attack_cat']\n",
    "\n",
    "        return X, y\n",
    "\n",
    "    def create_pool(self, X, y=None):\n",
    "        \"\"\"\n",
    "        Create a CatBoost Pool object\n",
    "\n",
    "        Args:\n",
    "            X : DataFrame : Input DataFrame\n",
    "            y : DataFrame : Target DataFrame\n",
    "\n",
    "        Returns:\n",
    "            Pool : CatBoost Pool object\n",
    "        \"\"\"\n",
    "        return Pool(\n",
    "            data=X,\n",
    "            label=y,\n",
    "            cat_features=self.categorical_features\n",
    "        )\n",
    "\n",
    "    def calculate_class_weights(self, y):\n",
    "        \"\"\"\n",
    "        Calculate class weights for multi-class classification based on class frequencies.\n",
    "\n",
    "        Args:\n",
    "            y : Series : Target labels\n",
    "\n",
    "        Returns:\n",
    "            dict : Class weights dictionary where keys are class indices and values are weights\n",
    "        \"\"\"\n",
    "        class_counts = Counter(y)\n",
    "        total_samples = len(y)\n",
    "        class_weights = {class_idx: total_samples / count for class_idx, count in class_counts.items()}\n",
    "        return class_weights\n",
    "\n",
    "    def train_model(self, X_train, y_train, X_val=None, y_val=None):\n",
    "        \"\"\"\n",
    "        Train the CatBoost model for multi-class classification.\n",
    "\n",
    "        Args:\n",
    "            X_train : DataFrame : Training features\n",
    "            y_train : Series : Training target\n",
    "            X_val : DataFrame : Validation features (optional)\n",
    "            y_val : Series : Validation target (optional)\n",
    "\n",
    "        Returns:\n",
    "            CatBoostClassifier : Trained CatBoost model\n",
    "        \"\"\"\n",
    "        train_pool = self.create_pool(X_train, y_train)\n",
    "        val_pool = self.create_pool(X_val, y_val) if X_val is not None else None\n",
    "\n",
    "        # Calculate multi-class weights\n",
    "        class_weights = self.calculate_class_weights(y_train)\n",
    "\n",
    "        model = CatBoostClassifier(\n",
    "            iterations=1000,\n",
    "            learning_rate=0.1,\n",
    "            depth=6,\n",
    "            loss_function='MultiClass',\n",
    "            eval_metric='MultiClass',\n",
    "            task_type='GPU',\n",
    "            random_seed=17,\n",
    "            class_weights=class_weights,  # Apply class weights for multi-class\n",
    "            verbose=100\n",
    "        )\n",
    "\n",
    "        model.fit(\n",
    "            train_pool,\n",
    "            eval_set=val_pool,\n",
    "            verbose=100\n",
    "        )\n",
    "\n",
    "        return model\n",
    "\n",
    "    def objective(self, trial, X_train, y_train, X_val, y_val):\n",
    "        \"\"\"\n",
    "        Objective function for Optuna hyperparameter tuning for multi-class classification.\n",
    "\n",
    "        Args:\n",
    "            trial : Trial : Optuna trial object\n",
    "            X_train : DataFrame : Training features\n",
    "            y_train : Series : Training target\n",
    "            X_val : DataFrame : Validation features\n",
    "            y_val : Series : Validation target\n",
    "\n",
    "        Returns:\n",
    "            float : MultiClass F1 score\n",
    "        \"\"\"\n",
    "        try:\n",
    "            # Define the hyperparameters to be tuned\n",
    "            params = {\n",
    "                'iterations': trial.suggest_int('iterations', 800, 1200),\n",
    "                'learning_rate': trial.suggest_float('learning_rate', 5e-2, 2e-1),\n",
    "                'depth': trial.suggest_int('depth', 4, 12),\n",
    "                'l2_leaf_reg': trial.suggest_float('l2_leaf_reg', 1e-1, 1.0),\n",
    "                'random_seed': 17,\n",
    "                'loss_function': 'MultiClass',\n",
    "                'eval_metric': 'MultiClass',\n",
    "                'task_type': 'GPU',\n",
    "                'class_weights': self.calculate_class_weights(y_train),  # Apply multi-class weights\n",
    "            }\n",
    "\n",
    "            train_pool = self.create_pool(X_train, y_train)\n",
    "            val_pool = self.create_pool(X_val, y_val)\n",
    "\n",
    "            model = CatBoostClassifier(**params)\n",
    "            model.fit(train_pool, eval_set=val_pool, verbose=100, early_stopping_rounds=100)\n",
    "\n",
    "            predictions = model.predict(val_pool)\n",
    "\n",
    "            # Return the validation F1 score\n",
    "            val_score = f1_score(y_val, predictions, average='weighted')\n",
    "            return val_score\n",
    "\n",
    "        except Exception as e:\n",
    "            print(f\"Error in objective function: {e}\")\n",
    "            return 0.0  # Return a default score in case of error\n",
    "\n",
    "    def optuna_tuning(self, X_train, y_train, X_val, y_val, n_trials=50):\n",
    "        \"\"\"\n",
    "        Perform hyperparameter tuning using Optuna\n",
    "\n",
    "        Args:\n",
    "            X_train : DataFrame : Training features\n",
    "            y_train : DataFrame : Training target\n",
    "            X_val : DataFrame : Validation features\n",
    "            y_val : DataFrame : Validation target\n",
    "            n_trials : int : Number of Optuna trials\n",
    "\n",
    "        Returns:\n",
    "            Dict : Best hyperparameters\n",
    "        \"\"\"\n",
    "        try:\n",
    "            study = optuna.create_study(direction='maximize')\n",
    "            study.optimize(lambda trial: self.objective(trial, X_train, y_train, X_val, y_val), n_trials=n_trials)\n",
    "\n",
    "            # Print and return the best parameters found by Optuna\n",
    "            print(\"Best hyperparameters: \", study.best_params)\n",
    "            print(\"Best F1: \", study.best_value)\n",
    "\n",
    "            return study.best_params\n",
    "\n",
    "        except Exception as e:\n",
    "            print(f\"Error in Optuna tuning: {e}\")\n",
    "            return None  # Return None if tuning fails\n",
    "\n",
    "    def train_with_optuna(self, X_train, y_train, X_val, y_val,tune = True, n_trials=50):\n",
    "        \"\"\"\n",
    "        Train the CatBoost model with hyperparameter tuning using Optuna\n",
    "\n",
    "        Args:\n",
    "            X_train : DataFrame : Training features\n",
    "            y_train : DataFrame : Training target\n",
    "            X_val : DataFrame : Validation features\n",
    "            y_val : DataFrame : Validation target\n",
    "            n_trials : int : Number of Optuna trials\n",
    "\n",
    "        Returns:\n",
    "            CatBoostClassifier : Trained CatBoost model\n",
    "        \"\"\"\n",
    "        try:\n",
    "            if(tune):\n",
    "                # Tune hyperparameters\n",
    "                best_params = self.optuna_tuning(X_train, y_train, X_val, y_val, n_trials)\n",
    "\n",
    "                if best_params is None:\n",
    "                    print(\"Optuna tuning failed. Exiting training process.\")\n",
    "                    return None  # Exit if tuning failed\n",
    "            else:\n",
    "                best_params = {'iterations': 1117, 'learning_rate': 0.09100148551636808, 'depth': 7, 'l2_leaf_reg': 0.8791036277340738}\n",
    "            # Train the model with the best hyperparameters\n",
    "            train_pool = self.create_pool(X_train, y_train)\n",
    "            val_pool = self.create_pool(X_val, y_val)\n",
    "\n",
    "            fixed_params = {\n",
    "                'class_weights': self.calculate_class_weights(y_train),  # Apply multi-class weights\n",
    "                'loss_function': 'MultiClass',\n",
    "                'eval_metric': 'MultiClass',\n",
    "                'random_seed': 17,\n",
    "                'task_type': 'GPU',\n",
    "                'verbose': 100,\n",
    "            }\n",
    "            model = CatBoostClassifier(\n",
    "                **best_params,\n",
    "                **fixed_params\n",
    "            )\n",
    "\n",
    "            model.fit(\n",
    "                train_pool,\n",
    "                eval_set=val_pool,\n",
    "            )\n",
    "\n",
    "            return model\n",
    "\n",
    "        except Exception as e:\n",
    "            print(f\"Error during training with Optuna: {e}\")\n",
    "            return None  # Return None if training fails\n"
   ]
  },
  {
   "cell_type": "code",
   "execution_count": null,
   "metadata": {
    "execution": {
     "iopub.execute_input": "2024-11-05T20:07:15.684630Z",
     "iopub.status.busy": "2024-11-05T20:07:15.684212Z",
     "iopub.status.idle": "2024-11-05T20:07:15.703994Z",
     "shell.execute_reply": "2024-11-05T20:07:15.702743Z",
     "shell.execute_reply.started": "2024-11-05T20:07:15.684585Z"
    },
    "executionInfo": {
     "elapsed": 347,
     "status": "ok",
     "timestamp": 1729077710923,
     "user": {
      "displayName": "Haouas Med Amine",
      "userId": "10721525835865282645"
     },
     "user_tz": -60
    },
    "id": "LMN77q8OZcxF",
    "trusted": true
   },
   "outputs": [],
   "source": [
    "# Define the paths to the training and testing datasets\n",
    "train_path = ''\n",
    "test_path = ''"
   ]
  },
  {
   "cell_type": "code",
   "execution_count": 4,
   "metadata": {
    "colab": {
     "base_uri": "https://localhost:8080/"
    },
    "execution": {
     "iopub.execute_input": "2024-11-05T20:07:15.706990Z",
     "iopub.status.busy": "2024-11-05T20:07:15.706583Z",
     "iopub.status.idle": "2024-11-05T20:07:16.732532Z",
     "shell.execute_reply": "2024-11-05T20:07:16.731569Z",
     "shell.execute_reply.started": "2024-11-05T20:07:15.706946Z"
    },
    "executionInfo": {
     "elapsed": 148864,
     "status": "ok",
     "timestamp": 1729078478115,
     "user": {
      "displayName": "Haouas Med Amine",
      "userId": "10721525835865282645"
     },
     "user_tz": -60
    },
    "id": "XF_O1FjIk0Mo",
    "outputId": "feeaff05-3588-419f-a7f9-7e93065a2e66",
    "trusted": true
   },
   "outputs": [
    {
     "name": "stdout",
     "output_type": "stream",
     "text": [
      "Removing highly correlated features in training: ['dload', 'sloss', 'sinpkt', 'sjit', 'djit', 'synack', 'ackdat', 'dmean', 'ct_dst_sport_ltm', 'ct_ftp_cmd']\n",
      "Removing same highly correlated features in test: ['dload', 'sloss', 'sinpkt', 'sjit', 'djit', 'synack', 'ackdat', 'dmean', 'ct_dst_sport_ltm', 'ct_ftp_cmd']\n"
     ]
    }
   ],
   "source": [
    "# Usage example\n",
    "pipeline = CatBoostPipeline(train_path, test_path)\n",
    "\n",
    "# Preprocess training data\n",
    "X_train, y_train = pipeline.preprocess(is_train=True)\n",
    "X_test, y_test = pipeline.preprocess(is_train=False)\n",
    "\n",
    "# Split into training and validation sets\n",
    "X_test, X_val, y_test, y_val = train_test_split(X_test, y_test, test_size=0.5, random_state=17)"
   ]
  },
  {
   "cell_type": "code",
   "execution_count": 5,
   "metadata": {
    "execution": {
     "iopub.execute_input": "2024-11-05T20:07:16.734202Z",
     "iopub.status.busy": "2024-11-05T20:07:16.733826Z",
     "iopub.status.idle": "2024-11-05T20:07:56.619500Z",
     "shell.execute_reply": "2024-11-05T20:07:56.618407Z",
     "shell.execute_reply.started": "2024-11-05T20:07:16.734165Z"
    },
    "trusted": true
   },
   "outputs": [
    {
     "name": "stdout",
     "output_type": "stream",
     "text": [
      "0:\tlearn: 1.4114407\ttest: 1.4007927\tbest: 1.4007927 (0)\ttotal: 6.74s\tremaining: 1h 52m 18s\n",
      "100:\tlearn: 0.5050149\ttest: 0.5293791\tbest: 0.5293791 (100)\ttotal: 7.83s\tremaining: 1m 9s\n",
      "200:\tlearn: 0.4811017\ttest: 0.5093723\tbest: 0.5093723 (200)\ttotal: 8.97s\tremaining: 35.7s\n",
      "300:\tlearn: 0.4692033\ttest: 0.5026624\tbest: 0.5026624 (300)\ttotal: 9.96s\tremaining: 23.1s\n",
      "400:\tlearn: 0.4618754\ttest: 0.4998559\tbest: 0.4998559 (400)\ttotal: 10.9s\tremaining: 16.3s\n",
      "500:\tlearn: 0.4561443\ttest: 0.4984227\tbest: 0.4980885 (492)\ttotal: 11.9s\tremaining: 11.9s\n",
      "600:\tlearn: 0.4517095\ttest: 0.4972566\tbest: 0.4972310 (599)\ttotal: 12.9s\tremaining: 8.54s\n",
      "700:\tlearn: 0.4480247\ttest: 0.4973183\tbest: 0.4971726 (604)\ttotal: 13.8s\tremaining: 5.89s\n",
      "800:\tlearn: 0.4447980\ttest: 0.4972962\tbest: 0.4971726 (604)\ttotal: 14.8s\tremaining: 3.67s\n",
      "900:\tlearn: 0.4419448\ttest: 0.4970059\tbest: 0.4969236 (897)\ttotal: 15.7s\tremaining: 1.73s\n",
      "999:\tlearn: 0.4393568\ttest: 0.4968284\tbest: 0.4965829 (986)\ttotal: 16.7s\tremaining: 0us\n",
      "bestTest = 0.4965829473\n",
      "bestIteration = 986\n",
      "Shrink model to first 987 iterations.\n"
     ]
    }
   ],
   "source": [
    "# Train baseline model\n",
    "model = pipeline.train_model(X_train, y_train, X_val, y_val)"
   ]
  },
  {
   "cell_type": "code",
   "execution_count": 6,
   "metadata": {
    "execution": {
     "iopub.execute_input": "2024-11-05T20:07:56.621134Z",
     "iopub.status.busy": "2024-11-05T20:07:56.620786Z",
     "iopub.status.idle": "2024-11-05T20:07:56.857208Z",
     "shell.execute_reply": "2024-11-05T20:07:56.856205Z",
     "shell.execute_reply.started": "2024-11-05T20:07:56.621101Z"
    },
    "executionInfo": {
     "elapsed": 293,
     "status": "ok",
     "timestamp": 1729078482138,
     "user": {
      "displayName": "Haouas Med Amine",
      "userId": "10721525835865282645"
     },
     "user_tz": -60
    },
    "id": "qFjlJ2i6n2QP",
    "trusted": true
   },
   "outputs": [],
   "source": [
    "# Create test pool and make predictions\n",
    "test_pool = pipeline.create_pool(X_test)\n",
    "predictions = model.predict(test_pool)\n",
    "predictions_prob = model.predict_proba(test_pool)[:, 1]"
   ]
  },
  {
   "cell_type": "code",
   "execution_count": 7,
   "metadata": {
    "colab": {
     "base_uri": "https://localhost:8080/",
     "height": 651
    },
    "execution": {
     "iopub.execute_input": "2024-11-05T20:07:56.859061Z",
     "iopub.status.busy": "2024-11-05T20:07:56.858619Z",
     "iopub.status.idle": "2024-11-05T20:07:57.997257Z",
     "shell.execute_reply": "2024-11-05T20:07:57.996309Z",
     "shell.execute_reply.started": "2024-11-05T20:07:56.859013Z"
    },
    "executionInfo": {
     "elapsed": 1205,
     "status": "ok",
     "timestamp": 1729078553531,
     "user": {
      "displayName": "Haouas Med Amine",
      "userId": "10721525835865282645"
     },
     "user_tz": -60
    },
    "id": "i0EvckHRaqIA",
    "outputId": "97c8d3d6-0df7-4bcb-dc21-2f4a32a79c73",
    "trusted": true
   },
   "outputs": [
    {
     "name": "stdout",
     "output_type": "stream",
     "text": [
      "F1 Score: 0.8355941599641689\n",
      "Precision: 0.8673680087418902\n",
      "Recall: 0.8244215349369989\n"
     ]
    },
    {
     "data": {
      "image/png": "[encoded data removed]",
      "text/plain": [
       "<Figure size 800x600 with 1 Axes>"
      ]
     },
     "metadata": {},
     "output_type": "display_data"
    }
   ],
   "source": [
    "# Compute metrics for multi-class classification\n",
    "f1 = f1_score(y_test, predictions, average='weighted')  # Macro average for multi-class\n",
    "precision = precision_score(y_test, predictions, average='weighted')\n",
    "recall = recall_score(y_test, predictions, average='weighted')\n",
    "\n",
    "# Confusion matrix\n",
    "conf_matrix = confusion_matrix(y_test, predictions)\n",
    "\n",
    "# Print metrics\n",
    "print(f\"F1 Score: {f1}\")\n",
    "print(f\"Precision: {precision}\")\n",
    "print(f\"Recall: {recall}\")\n",
    "\n",
    "# Plot confusion matrix using seaborn\n",
    "plt.figure(figsize=(8, 6))\n",
    "sns.heatmap(conf_matrix, annot=True, fmt=\"d\", cmap=\"Blues\", cbar=False)\n",
    "plt.title(\"Confusion Matrix\")\n",
    "plt.xlabel(\"Predicted\")\n",
    "plt.ylabel(\"Actual\")\n",
    "plt.show()"
   ]
  },
  {
   "cell_type": "code",
   "execution_count": 8,
   "metadata": {
    "execution": {
     "iopub.execute_input": "2024-11-05T20:07:57.998857Z",
     "iopub.status.busy": "2024-11-05T20:07:57.998542Z",
     "iopub.status.idle": "2024-11-05T20:07:59.058502Z",
     "shell.execute_reply": "2024-11-05T20:07:59.057558Z",
     "shell.execute_reply.started": "2024-11-05T20:07:57.998818Z"
    },
    "trusted": true
   },
   "outputs": [
    {
     "name": "stdout",
     "output_type": "stream",
     "text": [
      "                precision    recall  f1-score   support\n",
      "\n",
      "           DoS       0.39      0.78      0.52      2025\n",
      "      Exploits       0.83      0.62      0.71      5531\n",
      "       Fuzzers       0.84      0.77      0.80      3007\n",
      "       Generic       1.00      0.97      0.98      9484\n",
      "Reconnaissance       0.85      0.84      0.85      1778\n",
      "\n",
      "      accuracy                           0.82     21825\n",
      "     macro avg       0.78      0.80      0.77     21825\n",
      "  weighted avg       0.87      0.82      0.84     21825\n",
      "\n"
     ]
    }
   ],
   "source": [
    "from sklearn.metrics import classification_report\n",
    "\n",
    "# Generate the classification report\n",
    "report = classification_report(y_test, predictions)\n",
    "# Display the report\n",
    "print(report)"
   ]
  },
  {
   "cell_type": "code",
   "execution_count": 9,
   "metadata": {
    "execution": {
     "iopub.execute_input": "2024-11-05T20:07:59.060547Z",
     "iopub.status.busy": "2024-11-05T20:07:59.059739Z",
     "iopub.status.idle": "2024-11-05T20:07:59.551090Z",
     "shell.execute_reply": "2024-11-05T20:07:59.550202Z",
     "shell.execute_reply.started": "2024-11-05T20:07:59.060501Z"
    },
    "trusted": true
   },
   "outputs": [
    {
     "data": {
      "image/png": "[encoded data removed]",
      "text/plain": [
       "<Figure size 1000x600 with 1 Axes>"
      ]
     },
     "metadata": {},
     "output_type": "display_data"
    }
   ],
   "source": [
    "# Get feature importance\n",
    "feature_importances = model.get_feature_importance()\n",
    "\n",
    "# Create a DataFrame for better visualization\n",
    "features_df = pd.DataFrame({\n",
    "    'Feature': model.feature_names_,\n",
    "    'Importance': feature_importances\n",
    "}).sort_values(by='Importance', ascending=False)\n",
    "\n",
    "def plot_feature_importance(top_n=20):\n",
    "    \"\"\"Plots the top N important features.\"\"\"\n",
    "\n",
    "    # Select top N features\n",
    "    top_features = features_df.head(top_n)\n",
    "\n",
    "    plt.figure(figsize=(10, 6))\n",
    "    sns.barplot(x='Importance', y='Feature', data=top_features)\n",
    "    plt.title(f'Top {top_n} Most Important Features')\n",
    "    plt.xlabel('Importance')\n",
    "    plt.ylabel('Feature')\n",
    "    plt.tight_layout()\n",
    "    plt.show()\n",
    "\n",
    "plot_feature_importance()"
   ]
  },
  {
   "cell_type": "code",
   "execution_count": 10,
   "metadata": {
    "colab": {
     "base_uri": "https://localhost:8080/",
     "height": 141
    },
    "execution": {
     "iopub.execute_input": "2024-11-05T20:07:59.555352Z",
     "iopub.status.busy": "2024-11-05T20:07:59.554877Z",
     "iopub.status.idle": "2024-11-05T20:15:32.565629Z",
     "shell.execute_reply": "2024-11-05T20:15:32.564634Z",
     "shell.execute_reply.started": "2024-11-05T20:07:59.555308Z"
    },
    "executionInfo": {
     "elapsed": 295,
     "status": "error",
     "timestamp": 1729078917777,
     "user": {
      "displayName": "Haouas Med Amine",
      "userId": "10721525835865282645"
     },
     "user_tz": -60
    },
    "id": "G32i6C5SIkWg",
    "outputId": "167eeb68-964e-429e-e3b4-17d30e78ddd7",
    "trusted": true
   },
   "outputs": [
    {
     "name": "stderr",
     "output_type": "stream",
     "text": [
      "[I 2024-11-05 20:07:59,557] A new study created in memory with name: no-name-f9fe9dcc-aef7-45de-97f6-1fc3778a9367\n"
     ]
    },
    {
     "name": "stdout",
     "output_type": "stream",
     "text": [
      "0:\tlearn: 1.2552786\ttest: 1.2484041\tbest: 1.2484041 (0)\ttotal: 50.5ms\tremaining: 46s\n",
      "100:\tlearn: 0.4478788\ttest: 0.5045718\tbest: 0.5033008 (81)\ttotal: 4.68s\tremaining: 37.6s\n",
      "bestTest = 0.5033007898\n",
      "bestIteration = 81\n",
      "Shrink model to first 82 iterations.\n"
     ]
    },
    {
     "name": "stderr",
     "output_type": "stream",
     "text": [
      "[I 2024-11-05 20:08:08,699] Trial 0 finished with value: 0.8336775637084934 and parameters: {'iterations': 913, 'learning_rate': 0.16325912496057554, 'depth': 10, 'l2_leaf_reg': 0.5958217718024176}. Best is trial 0 with value: 0.8336775637084934.\n"
     ]
    },
    {
     "name": "stdout",
     "output_type": "stream",
     "text": [
      "0:\tlearn: 1.3951408\ttest: 1.3885407\tbest: 1.3885407 (0)\ttotal: 20.4ms\tremaining: 17s\n",
      "100:\tlearn: 0.4843931\ttest: 0.5166235\tbest: 0.5166235 (100)\ttotal: 1.79s\tremaining: 13s\n",
      "200:\tlearn: 0.4598634\ttest: 0.5026241\tbest: 0.5024971 (197)\ttotal: 3.58s\tremaining: 11.2s\n",
      "300:\tlearn: 0.4471693\ttest: 0.5027456\tbest: 0.5022743 (284)\ttotal: 5.37s\tremaining: 9.47s\n",
      "400:\tlearn: 0.4385887\ttest: 0.5030230\tbest: 0.5019300 (338)\ttotal: 7.15s\tremaining: 7.69s\n",
      "bestTest = 0.5019300164\n",
      "bestIteration = 338\n",
      "Shrink model to first 339 iterations.\n"
     ]
    },
    {
     "name": "stderr",
     "output_type": "stream",
     "text": [
      "[I 2024-11-05 20:08:17,476] Trial 1 finished with value: 0.834709521583443 and parameters: {'iterations': 832, 'learning_rate': 0.09852345444547242, 'depth': 8, 'l2_leaf_reg': 0.6716454563218158}. Best is trial 1 with value: 0.834709521583443.\n"
     ]
    },
    {
     "name": "stdout",
     "output_type": "stream",
     "text": [
      "0:\tlearn: 1.2999953\ttest: 1.2891015\tbest: 1.2891015 (0)\ttotal: 15.3ms\tremaining: 16.1s\n",
      "100:\tlearn: 0.4766045\ttest: 0.5101897\tbest: 0.5100195 (95)\ttotal: 1.27s\tremaining: 12s\n",
      "200:\tlearn: 0.4554955\ttest: 0.5026540\tbest: 0.5024201 (197)\ttotal: 2.74s\tremaining: 11.7s\n",
      "300:\tlearn: 0.4438777\ttest: 0.5009749\tbest: 0.5008905 (292)\ttotal: 4.04s\tremaining: 10.2s\n",
      "400:\tlearn: 0.4366995\ttest: 0.5021401\tbest: 0.5008051 (314)\ttotal: 5.32s\tremaining: 8.7s\n",
      "bestTest = 0.5008051326\n",
      "bestIteration = 314\n",
      "Shrink model to first 315 iterations.\n"
     ]
    },
    {
     "name": "stderr",
     "output_type": "stream",
     "text": [
      "[I 2024-11-05 20:08:23,853] Trial 2 finished with value: 0.8360435154465309 and parameters: {'iterations': 1057, 'learning_rate': 0.1516145418091936, 'depth': 7, 'l2_leaf_reg': 0.6943832115370324}. Best is trial 2 with value: 0.8360435154465309.\n"
     ]
    },
    {
     "name": "stdout",
     "output_type": "stream",
     "text": [
      "0:\tlearn: 1.4186526\ttest: 1.4083695\tbest: 1.4083695 (0)\ttotal: 12.5ms\tremaining: 10.7s\n",
      "100:\tlearn: 0.5049336\ttest: 0.5289661\tbest: 0.5289661 (100)\ttotal: 975ms\tremaining: 7.34s\n",
      "200:\tlearn: 0.4809680\ttest: 0.5092800\tbest: 0.5092800 (200)\ttotal: 1.92s\tremaining: 6.32s\n",
      "300:\tlearn: 0.4691426\ttest: 0.5031174\tbest: 0.5031174 (300)\ttotal: 2.86s\tremaining: 5.33s\n",
      "400:\tlearn: 0.4616813\ttest: 0.5007504\tbest: 0.5005008 (395)\ttotal: 3.81s\tremaining: 4.38s\n",
      "500:\tlearn: 0.4554799\ttest: 0.4989262\tbest: 0.4986354 (490)\ttotal: 4.77s\tremaining: 3.44s\n",
      "600:\tlearn: 0.4505423\ttest: 0.4979437\tbest: 0.4978492 (598)\ttotal: 5.72s\tremaining: 2.48s\n",
      "700:\tlearn: 0.4465169\ttest: 0.4967904\tbest: 0.4967904 (700)\ttotal: 6.72s\tremaining: 1.54s\n",
      "800:\tlearn: 0.4429890\ttest: 0.4969526\tbest: 0.4967540 (703)\ttotal: 7.67s\tremaining: 584ms\n",
      "bestTest = 0.496754029\n",
      "bestIteration = 703\n",
      "Shrink model to first 704 iterations.\n"
     ]
    },
    {
     "name": "stderr",
     "output_type": "stream",
     "text": [
      "[I 2024-11-05 20:08:32,578] Trial 3 finished with value: 0.8351854790222498 and parameters: {'iterations': 862, 'learning_rate': 0.09609749891154859, 'depth': 6, 'l2_leaf_reg': 0.8342360104519634}. Best is trial 2 with value: 0.8360435154465309.\n"
     ]
    },
    {
     "name": "stdout",
     "output_type": "stream",
     "text": [
      "0:\tlearn: 1.4215845\ttest: 1.4054122\tbest: 1.4054122 (0)\ttotal: 8.86ms\tremaining: 9.11s\n",
      "100:\tlearn: 0.5269138\ttest: 0.5506338\tbest: 0.5506338 (100)\ttotal: 663ms\tremaining: 6.09s\n",
      "200:\tlearn: 0.5013601\ttest: 0.5238968\tbest: 0.5238968 (200)\ttotal: 1.29s\tremaining: 5.33s\n",
      "300:\tlearn: 0.4899380\ttest: 0.5154522\tbest: 0.5154522 (300)\ttotal: 1.9s\tremaining: 4.6s\n",
      "400:\tlearn: 0.4815527\ttest: 0.5103977\tbest: 0.5103235 (394)\ttotal: 2.58s\tremaining: 4.04s\n",
      "500:\tlearn: 0.4753998\ttest: 0.5064812\tbest: 0.5064812 (500)\ttotal: 3.22s\tremaining: 3.39s\n",
      "600:\tlearn: 0.4712706\ttest: 0.5049518\tbest: 0.5047333 (592)\ttotal: 3.87s\tremaining: 2.76s\n",
      "700:\tlearn: 0.4681870\ttest: 0.5037160\tbest: 0.5036929 (697)\ttotal: 4.49s\tremaining: 2.1s\n",
      "800:\tlearn: 0.4649027\ttest: 0.5027652\tbest: 0.5026071 (783)\ttotal: 5.1s\tremaining: 1.45s\n",
      "bestTest = 0.50260715\n",
      "bestIteration = 783\n",
      "Shrink model to first 784 iterations.\n"
     ]
    },
    {
     "name": "stderr",
     "output_type": "stream",
     "text": [
      "[I 2024-11-05 20:08:39,141] Trial 4 finished with value: 0.8328549636577718 and parameters: {'iterations': 1029, 'learning_rate': 0.11593480545579243, 'depth': 4, 'l2_leaf_reg': 0.9305382238348834}. Best is trial 2 with value: 0.8360435154465309.\n"
     ]
    },
    {
     "name": "stdout",
     "output_type": "stream",
     "text": [
      "0:\tlearn: 1.2090429\ttest: 1.2008090\tbest: 1.2008090 (0)\ttotal: 29.9ms\tremaining: 34s\n",
      "100:\tlearn: 0.4526085\ttest: 0.5060889\tbest: 0.5056836 (97)\ttotal: 2.84s\tremaining: 29.2s\n",
      "200:\tlearn: 0.4312052\ttest: 0.5070832\tbest: 0.5047596 (129)\ttotal: 5.63s\tremaining: 26.2s\n",
      "bestTest = 0.5047595839\n",
      "bestIteration = 129\n",
      "Shrink model to first 130 iterations.\n"
     ]
    },
    {
     "name": "stderr",
     "output_type": "stream",
     "text": [
      "[I 2024-11-05 20:08:46,527] Trial 5 finished with value: 0.8336553478778854 and parameters: {'iterations': 1138, 'learning_rate': 0.1920128535670672, 'depth': 9, 'l2_leaf_reg': 0.6353496231604129}. Best is trial 2 with value: 0.8360435154465309.\n"
     ]
    },
    {
     "name": "stdout",
     "output_type": "stream",
     "text": [
      "0:\tlearn: 1.4640103\ttest: 1.4560946\tbest: 1.4560946 (0)\ttotal: 12ms\tremaining: 9.82s\n",
      "100:\tlearn: 0.5179330\ttest: 0.5434875\tbest: 0.5434875 (100)\ttotal: 980ms\tremaining: 6.95s\n",
      "200:\tlearn: 0.4899203\ttest: 0.5176600\tbest: 0.5176600 (200)\ttotal: 1.93s\tremaining: 5.93s\n",
      "300:\tlearn: 0.4773587\ttest: 0.5089096\tbest: 0.5089096 (300)\ttotal: 2.88s\tremaining: 4.95s\n",
      "400:\tlearn: 0.4689564\ttest: 0.5044067\tbest: 0.5044067 (400)\ttotal: 3.84s\tremaining: 3.99s\n",
      "500:\tlearn: 0.4621179\ttest: 0.5014221\tbest: 0.5014221 (500)\ttotal: 4.99s\tremaining: 3.16s\n",
      "600:\tlearn: 0.4572926\ttest: 0.4999521\tbest: 0.4998226 (585)\ttotal: 6.01s\tremaining: 2.17s\n",
      "700:\tlearn: 0.4534281\ttest: 0.4992068\tbest: 0.4991539 (676)\ttotal: 6.98s\tremaining: 1.16s\n",
      "800:\tlearn: 0.4498174\ttest: 0.4983823\tbest: 0.4982753 (792)\ttotal: 7.95s\tremaining: 169ms\n",
      "817:\tlearn: 0.4492139\ttest: 0.4983677\tbest: 0.4982753 (792)\ttotal: 8.11s\tremaining: 0us\n",
      "bestTest = 0.4982752892\n",
      "bestIteration = 792\n",
      "Shrink model to first 793 iterations.\n"
     ]
    },
    {
     "name": "stderr",
     "output_type": "stream",
     "text": [
      "[I 2024-11-05 20:08:55,536] Trial 6 finished with value: 0.8342809835188697 and parameters: {'iterations': 818, 'learning_rate': 0.07222137835041297, 'depth': 6, 'l2_leaf_reg': 0.4908896881161181}. Best is trial 2 with value: 0.8360435154465309.\n"
     ]
    },
    {
     "name": "stdout",
     "output_type": "stream",
     "text": [
      "0:\tlearn: 1.4332507\ttest: 1.4301762\tbest: 1.4301762 (0)\ttotal: 80.5ms\tremaining: 1m 11s\n",
      "100:\tlearn: 0.4699698\ttest: 0.5118323\tbest: 0.5118323 (100)\ttotal: 8.12s\tremaining: 1m 3s\n",
      "200:\tlearn: 0.4436617\ttest: 0.5042483\tbest: 0.5040896 (191)\ttotal: 16.2s\tremaining: 55.8s\n",
      "bestTest = 0.5040896055\n",
      "bestIteration = 191\n",
      "Shrink model to first 192 iterations.\n"
     ]
    },
    {
     "name": "stderr",
     "output_type": "stream",
     "text": [
      "[I 2024-11-05 20:09:20,047] Trial 7 finished with value: 0.8329433803753963 and parameters: {'iterations': 893, 'learning_rate': 0.07552844621424255, 'depth': 11, 'l2_leaf_reg': 0.9606866051542035}. Best is trial 2 with value: 0.8360435154465309.\n"
     ]
    },
    {
     "name": "stdout",
     "output_type": "stream",
     "text": [
      "0:\tlearn: 1.4321506\ttest: 1.4290591\tbest: 1.4290591 (0)\ttotal: 81.8ms\tremaining: 1m 9s\n",
      "100:\tlearn: 0.4699058\ttest: 0.5110993\tbest: 0.5110993 (100)\ttotal: 8.29s\tremaining: 1m 1s\n",
      "200:\tlearn: 0.4431155\ttest: 0.5076420\tbest: 0.5063343 (157)\ttotal: 16.4s\tremaining: 53.2s\n",
      "bestTest = 0.5063342622\n",
      "bestIteration = 157\n",
      "Shrink model to first 158 iterations.\n"
     ]
    },
    {
     "name": "stderr",
     "output_type": "stream",
     "text": [
      "[I 2024-11-05 20:09:42,009] Trial 8 finished with value: 0.8331319397831825 and parameters: {'iterations': 854, 'learning_rate': 0.07601773707680731, 'depth': 11, 'l2_leaf_reg': 0.8342014411922536}. Best is trial 2 with value: 0.8360435154465309.\n"
     ]
    },
    {
     "name": "stdout",
     "output_type": "stream",
     "text": [
      "0:\tlearn: 1.2311769\ttest: 1.2255262\tbest: 1.2255262 (0)\ttotal: 79.4ms\tremaining: 1m 11s\n",
      "100:\tlearn: 0.4375646\ttest: 0.5102205\tbest: 0.5080291 (72)\ttotal: 8.15s\tremaining: 1m 4s\n",
      "bestTest = 0.5080291406\n",
      "bestIteration = 72\n",
      "Shrink model to first 73 iterations.\n"
     ]
    },
    {
     "name": "stderr",
     "output_type": "stream",
     "text": [
      "[I 2024-11-05 20:09:57,126] Trial 9 finished with value: 0.8314811203488623 and parameters: {'iterations': 904, 'learning_rate': 0.172558705651756, 'depth': 11, 'l2_leaf_reg': 0.5909298830750159}. Best is trial 2 with value: 0.8360435154465309.\n"
     ]
    },
    {
     "name": "stdout",
     "output_type": "stream",
     "text": [
      "0:\tlearn: 1.3205353\ttest: 1.3102443\tbest: 1.3102443 (0)\ttotal: 16.4ms\tremaining: 19.3s\n",
      "100:\tlearn: 0.4795600\ttest: 0.5149253\tbest: 0.5149253 (100)\ttotal: 1.3s\tremaining: 13.9s\n",
      "200:\tlearn: 0.4577179\ttest: 0.5043874\tbest: 0.5040736 (198)\ttotal: 2.55s\tremaining: 12.4s\n",
      "300:\tlearn: 0.4452422\ttest: 0.5040075\tbest: 0.5032471 (254)\ttotal: 3.84s\tremaining: 11.2s\n",
      "bestTest = 0.5032470689\n",
      "bestIteration = 254\n",
      "Shrink model to first 255 iterations.\n"
     ]
    },
    {
     "name": "stderr",
     "output_type": "stream",
     "text": [
      "[I 2024-11-05 20:10:02,545] Trial 10 finished with value: 0.833115105736013 and parameters: {'iterations': 1180, 'learning_rate': 0.14049266267710725, 'depth': 7, 'l2_leaf_reg': 0.221864681817262}. Best is trial 2 with value: 0.8360435154465309.\n"
     ]
    },
    {
     "name": "stdout",
     "output_type": "stream",
     "text": [
      "0:\tlearn: 1.3672207\ttest: 1.3540503\tbest: 1.3540503 (0)\ttotal: 10.3ms\tremaining: 10.5s\n",
      "100:\tlearn: 0.5050369\ttest: 0.5259959\tbest: 0.5259959 (100)\ttotal: 789ms\tremaining: 7.22s\n",
      "200:\tlearn: 0.4819372\ttest: 0.5074196\tbest: 0.5074196 (200)\ttotal: 1.53s\tremaining: 6.28s\n",
      "300:\tlearn: 0.4708637\ttest: 0.5015323\tbest: 0.5011416 (283)\ttotal: 2.29s\tremaining: 5.52s\n",
      "400:\tlearn: 0.4639690\ttest: 0.4993131\tbest: 0.4993131 (400)\ttotal: 3.04s\tremaining: 4.74s\n",
      "500:\tlearn: 0.4578640\ttest: 0.4981787\tbest: 0.4980817 (493)\ttotal: 3.8s\tremaining: 3.98s\n",
      "600:\tlearn: 0.4532212\ttest: 0.4977199\tbest: 0.4972278 (577)\ttotal: 4.56s\tremaining: 3.22s\n",
      "700:\tlearn: 0.4497128\ttest: 0.4967805\tbest: 0.4965705 (671)\ttotal: 5.3s\tremaining: 2.46s\n",
      "bestTest = 0.4965705298\n",
      "bestIteration = 671\n",
      "Shrink model to first 672 iterations.\n"
     ]
    },
    {
     "name": "stderr",
     "output_type": "stream",
     "text": [
      "[I 2024-11-05 20:10:09,310] Trial 11 finished with value: 0.8340678930066274 and parameters: {'iterations': 1026, 'learning_rate': 0.135139923769801, 'depth': 5, 'l2_leaf_reg': 0.7787991598619992}. Best is trial 2 with value: 0.8360435154465309.\n"
     ]
    },
    {
     "name": "stdout",
     "output_type": "stream",
     "text": [
      "0:\tlearn: 1.3778177\ttest: 1.3693274\tbest: 1.3693274 (0)\ttotal: 15.3ms\tremaining: 16.8s\n",
      "100:\tlearn: 0.4872375\ttest: 0.5138247\tbest: 0.5138247 (100)\ttotal: 1.32s\tremaining: 13s\n",
      "200:\tlearn: 0.4642759\ttest: 0.5027222\tbest: 0.5027222 (200)\ttotal: 2.56s\tremaining: 11.4s\n",
      "300:\tlearn: 0.4530041\ttest: 0.5003951\tbest: 0.5000186 (288)\ttotal: 3.83s\tremaining: 10.1s\n",
      "400:\tlearn: 0.4447616\ttest: 0.4993007\tbest: 0.4982729 (339)\ttotal: 5.07s\tremaining: 8.76s\n",
      "bestTest = 0.498272942\n",
      "bestIteration = 339\n",
      "Shrink model to first 340 iterations.\n"
     ]
    },
    {
     "name": "stderr",
     "output_type": "stream",
     "text": [
      "[I 2024-11-05 20:10:15,768] Trial 12 finished with value: 0.8357783438962468 and parameters: {'iterations': 1094, 'learning_rate': 0.11049759059853559, 'depth': 7, 'l2_leaf_reg': 0.4022429474345257}. Best is trial 2 with value: 0.8360435154465309.\n"
     ]
    },
    {
     "name": "stdout",
     "output_type": "stream",
     "text": [
      "0:\tlearn: 1.2894112\ttest: 1.2801740\tbest: 1.2801740 (0)\ttotal: 20.9ms\tremaining: 22.8s\n",
      "100:\tlearn: 0.4681300\ttest: 0.5067644\tbest: 0.5065758 (97)\ttotal: 1.8s\tremaining: 17.7s\n",
      "200:\tlearn: 0.4460294\ttest: 0.5055399\tbest: 0.5034063 (134)\ttotal: 3.58s\tremaining: 15.9s\n",
      "bestTest = 0.5034063388\n",
      "bestIteration = 134\n",
      "Shrink model to first 135 iterations.\n"
     ]
    },
    {
     "name": "stderr",
     "output_type": "stream",
     "text": [
      "[I 2024-11-05 20:10:20,831] Trial 13 finished with value: 0.8316770693687129 and parameters: {'iterations': 1095, 'learning_rate': 0.1522908084647396, 'depth': 8, 'l2_leaf_reg': 0.3734082771646037}. Best is trial 2 with value: 0.8360435154465309.\n"
     ]
    },
    {
     "name": "stdout",
     "output_type": "stream",
     "text": [
      "0:\tlearn: 1.3729231\ttest: 1.3642740\tbest: 1.3642740 (0)\ttotal: 13.8ms\tremaining: 14.8s\n",
      "100:\tlearn: 0.4871518\ttest: 0.5151149\tbest: 0.5151149 (100)\ttotal: 1.28s\tremaining: 12.4s\n",
      "200:\tlearn: 0.4638149\ttest: 0.5012801\tbest: 0.5012801 (200)\ttotal: 2.53s\tremaining: 11s\n",
      "300:\tlearn: 0.4525023\ttest: 0.4987562\tbest: 0.4984084 (276)\ttotal: 3.79s\tremaining: 9.71s\n",
      "400:\tlearn: 0.4445784\ttest: 0.4986583\tbest: 0.4976980 (330)\ttotal: 5.05s\tremaining: 8.47s\n",
      "bestTest = 0.497697988\n",
      "bestIteration = 330\n",
      "Shrink model to first 331 iterations.\n"
     ]
    },
    {
     "name": "stderr",
     "output_type": "stream",
     "text": [
      "[I 2024-11-05 20:10:27,223] Trial 14 finished with value: 0.8339374502622576 and parameters: {'iterations': 1073, 'learning_rate': 0.11300975703482258, 'depth': 7, 'l2_leaf_reg': 0.4210604826728941}. Best is trial 2 with value: 0.8360435154465309.\n"
     ]
    },
    {
     "name": "stdout",
     "output_type": "stream",
     "text": [
      "0:\tlearn: 1.4933763\ttest: 1.4904714\tbest: 1.4904714 (0)\ttotal: 30.3ms\tremaining: 29.5s\n",
      "100:\tlearn: 0.5040892\ttest: 0.5329601\tbest: 0.5329601 (100)\ttotal: 2.96s\tremaining: 25.6s\n",
      "200:\tlearn: 0.4736555\ttest: 0.5097005\tbest: 0.5097005 (200)\ttotal: 5.77s\tremaining: 22.2s\n",
      "300:\tlearn: 0.4588894\ttest: 0.5042780\tbest: 0.5042298 (298)\ttotal: 8.52s\tremaining: 19.1s\n",
      "400:\tlearn: 0.4488943\ttest: 0.5024792\tbest: 0.5021435 (384)\ttotal: 11.3s\tremaining: 16.2s\n",
      "bestTest = 0.5021434615\n",
      "bestIteration = 384\n",
      "Shrink model to first 385 iterations.\n"
     ]
    },
    {
     "name": "stderr",
     "output_type": "stream",
     "text": [
      "[I 2024-11-05 20:10:41,817] Trial 15 finished with value: 0.8334285534931715 and parameters: {'iterations': 975, 'learning_rate': 0.05085288593237779, 'depth': 9, 'l2_leaf_reg': 0.2607158295187436}. Best is trial 2 with value: 0.8360435154465309.\n"
     ]
    },
    {
     "name": "stdout",
     "output_type": "stream",
     "text": [
      "0:\tlearn: 1.2448110\ttest: 1.2261770\tbest: 1.2261770 (0)\ttotal: 12.3ms\tremaining: 11.8s\n",
      "100:\tlearn: 0.4794756\ttest: 0.5122437\tbest: 0.5114303 (97)\ttotal: 970ms\tremaining: 8.31s\n",
      "200:\tlearn: 0.4596231\ttest: 0.5042294\tbest: 0.5041552 (192)\ttotal: 1.92s\tremaining: 7.31s\n",
      "300:\tlearn: 0.4485342\ttest: 0.5039903\tbest: 0.5034490 (230)\ttotal: 2.87s\tremaining: 6.34s\n",
      "bestTest = 0.5034490051\n",
      "bestIteration = 230\n",
      "Shrink model to first 231 iterations.\n"
     ]
    },
    {
     "name": "stderr",
     "output_type": "stream",
     "text": [
      "[I 2024-11-05 20:10:45,843] Trial 16 finished with value: 0.8309438078513381 and parameters: {'iterations': 966, 'learning_rate': 0.19622716663987902, 'depth': 6, 'l2_leaf_reg': 0.3278530313847645}. Best is trial 2 with value: 0.8360435154465309.\n"
     ]
    },
    {
     "name": "stdout",
     "output_type": "stream",
     "text": [
      "0:\tlearn: 1.3968689\ttest: 1.3786354\tbest: 1.3786354 (0)\ttotal: 7.67ms\tremaining: 8.64s\n",
      "100:\tlearn: 0.5192371\ttest: 0.5420389\tbest: 0.5420389 (100)\ttotal: 651ms\tremaining: 6.61s\n",
      "200:\tlearn: 0.4951254\ttest: 0.5205159\tbest: 0.5205159 (200)\ttotal: 1.25s\tremaining: 5.77s\n",
      "300:\tlearn: 0.4843957\ttest: 0.5121885\tbest: 0.5121885 (300)\ttotal: 1.87s\tremaining: 5.13s\n",
      "400:\tlearn: 0.4770452\ttest: 0.5081268\tbest: 0.5081268 (400)\ttotal: 2.51s\tremaining: 4.55s\n",
      "500:\tlearn: 0.4712328\ttest: 0.5049335\tbest: 0.5049335 (500)\ttotal: 3.18s\tremaining: 3.97s\n",
      "600:\tlearn: 0.4669206\ttest: 0.5030975\tbest: 0.5030431 (599)\ttotal: 3.84s\tremaining: 3.36s\n",
      "700:\tlearn: 0.4633948\ttest: 0.5013087\tbest: 0.5011224 (684)\ttotal: 4.54s\tremaining: 2.76s\n",
      "800:\tlearn: 0.4604293\ttest: 0.5008404\tbest: 0.5007812 (797)\ttotal: 5.22s\tremaining: 2.13s\n",
      "900:\tlearn: 0.4576648\ttest: 0.5007516\tbest: 0.5006085 (810)\ttotal: 5.87s\tremaining: 1.47s\n",
      "1000:\tlearn: 0.4552355\ttest: 0.5003078\tbest: 0.4999432 (978)\ttotal: 6.5s\tremaining: 818ms\n",
      "1100:\tlearn: 0.4533066\ttest: 0.5000339\tbest: 0.4997909 (1029)\ttotal: 7.11s\tremaining: 168ms\n",
      "1126:\tlearn: 0.4526905\ttest: 0.4997714\tbest: 0.4997714 (1126)\ttotal: 7.26s\tremaining: 0us\n",
      "bestTest = 0.4997714494\n",
      "bestIteration = 1126\n"
     ]
    },
    {
     "name": "stderr",
     "output_type": "stream",
     "text": [
      "[I 2024-11-05 20:10:54,086] Trial 17 finished with value: 0.834039492189739 and parameters: {'iterations': 1127, 'learning_rate': 0.13254880456885437, 'depth': 4, 'l2_leaf_reg': 0.14878304146189547}. Best is trial 2 with value: 0.8360435154465309.\n"
     ]
    },
    {
     "name": "stdout",
     "output_type": "stream",
     "text": [
      "0:\tlearn: 1.2574072\ttest: 1.2453367\tbest: 1.2453367 (0)\ttotal: 13.5ms\tremaining: 14.4s\n",
      "100:\tlearn: 0.4728009\ttest: 0.5075288\tbest: 0.5070611 (95)\ttotal: 1.25s\tremaining: 11.9s\n",
      "200:\tlearn: 0.4521729\ttest: 0.5011871\tbest: 0.5007599 (194)\ttotal: 2.48s\tremaining: 10.7s\n",
      "300:\tlearn: 0.4403889\ttest: 0.5020763\tbest: 0.5006808 (254)\ttotal: 3.73s\tremaining: 9.49s\n",
      "bestTest = 0.500680768\n",
      "bestIteration = 254\n",
      "Shrink model to first 255 iterations.\n"
     ]
    },
    {
     "name": "stderr",
     "output_type": "stream",
     "text": [
      "[I 2024-11-05 20:10:59,374] Trial 18 finished with value: 0.8334060393645263 and parameters: {'iterations': 1067, 'learning_rate': 0.17529707423794355, 'depth': 7, 'l2_leaf_reg': 0.4821305423935989}. Best is trial 2 with value: 0.8360435154465309.\n"
     ]
    },
    {
     "name": "stdout",
     "output_type": "stream",
     "text": [
      "0:\tlearn: 1.2907450\ttest: 1.2815346\tbest: 1.2815346 (0)\ttotal: 20.4ms\tremaining: 23.7s\n",
      "100:\tlearn: 0.4683368\ttest: 0.5037155\tbest: 0.5031977 (97)\ttotal: 2.05s\tremaining: 21.5s\n",
      "200:\tlearn: 0.4465181\ttest: 0.5011197\tbest: 0.5006437 (193)\ttotal: 3.85s\tremaining: 18.4s\n",
      "bestTest = 0.5006437047\n",
      "bestIteration = 193\n",
      "Shrink model to first 194 iterations.\n"
     ]
    },
    {
     "name": "stderr",
     "output_type": "stream",
     "text": [
      "[I 2024-11-05 20:11:05,793] Trial 19 finished with value: 0.8354035530154964 and parameters: {'iterations': 1160, 'learning_rate': 0.1515999281328624, 'depth': 8, 'l2_leaf_reg': 0.7200440781859991}. Best is trial 2 with value: 0.8360435154465309.\n"
     ]
    },
    {
     "name": "stdout",
     "output_type": "stream",
     "text": [
      "0:\tlearn: 1.3936690\ttest: 1.3818379\tbest: 1.3818379 (0)\ttotal: 8.86ms\tremaining: 9.82s\n",
      "100:\tlearn: 0.5083722\ttest: 0.5340019\tbest: 0.5340019 (100)\ttotal: 782ms\tremaining: 7.81s\n",
      "200:\tlearn: 0.4849777\ttest: 0.5147714\tbest: 0.5147714 (200)\ttotal: 1.54s\tremaining: 6.96s\n",
      "300:\tlearn: 0.4738330\ttest: 0.5076545\tbest: 0.5076545 (300)\ttotal: 2.27s\tremaining: 6.1s\n",
      "400:\tlearn: 0.4667879\ttest: 0.5046230\tbest: 0.5045637 (397)\ttotal: 3.01s\tremaining: 5.31s\n",
      "500:\tlearn: 0.4606444\ttest: 0.5018599\tbest: 0.5018102 (490)\ttotal: 3.76s\tremaining: 4.56s\n",
      "600:\tlearn: 0.4561864\ttest: 0.5014009\tbest: 0.5011581 (562)\ttotal: 4.52s\tremaining: 3.82s\n",
      "700:\tlearn: 0.4526893\ttest: 0.5009981\tbest: 0.5004753 (668)\ttotal: 5.31s\tremaining: 3.09s\n",
      "bestTest = 0.5004753489\n",
      "bestIteration = 668\n",
      "Shrink model to first 669 iterations.\n"
     ]
    },
    {
     "name": "stderr",
     "output_type": "stream",
     "text": [
      "[I 2024-11-05 20:11:12,587] Trial 20 finished with value: 0.8340371845341155 and parameters: {'iterations': 1109, 'learning_rate': 0.11916899285796709, 'depth': 5, 'l2_leaf_reg': 0.5196628361649442}. Best is trial 2 with value: 0.8360435154465309.\n"
     ]
    },
    {
     "name": "stdout",
     "output_type": "stream",
     "text": [
      "0:\tlearn: 1.2808319\ttest: 1.2736020\tbest: 1.2736020 (0)\ttotal: 30.7ms\tremaining: 36.3s\n",
      "100:\tlearn: 0.4591866\ttest: 0.5086939\tbest: 0.5082145 (94)\ttotal: 2.87s\tremaining: 30.7s\n",
      "200:\tlearn: 0.4359101\ttest: 0.5100318\tbest: 0.5054597 (133)\ttotal: 5.66s\tremaining: 27.6s\n",
      "bestTest = 0.5054596975\n",
      "bestIteration = 133\n",
      "Shrink model to first 134 iterations.\n"
     ]
    },
    {
     "name": "stderr",
     "output_type": "stream",
     "text": [
      "[I 2024-11-05 20:11:20,052] Trial 21 finished with value: 0.8325374525231992 and parameters: {'iterations': 1182, 'learning_rate': 0.1533840493336731, 'depth': 9, 'l2_leaf_reg': 0.7058130717223755}. Best is trial 2 with value: 0.8360435154465309.\n"
     ]
    },
    {
     "name": "stdout",
     "output_type": "stream",
     "text": [
      "0:\tlearn: 1.3086537\ttest: 1.2998523\tbest: 1.2998523 (0)\ttotal: 20.4ms\tremaining: 23.7s\n",
      "100:\tlearn: 0.4709702\ttest: 0.5057358\tbest: 0.5055958 (99)\ttotal: 1.83s\tremaining: 19.3s\n",
      "200:\tlearn: 0.4478648\ttest: 0.5008731\tbest: 0.5001739 (198)\ttotal: 3.62s\tremaining: 17.4s\n",
      "bestTest = 0.5001738832\n",
      "bestIteration = 198\n",
      "Shrink model to first 199 iterations.\n"
     ]
    },
    {
     "name": "stderr",
     "output_type": "stream",
     "text": [
      "[I 2024-11-05 20:11:26,322] Trial 22 finished with value: 0.8336906236765375 and parameters: {'iterations': 1165, 'learning_rate': 0.14218501943614623, 'depth': 8, 'l2_leaf_reg': 0.7581422244616595}. Best is trial 2 with value: 0.8360435154465309.\n"
     ]
    },
    {
     "name": "stdout",
     "output_type": "stream",
     "text": [
      "0:\tlearn: 1.2970744\ttest: 1.2860978\tbest: 1.2860978 (0)\ttotal: 15.4ms\tremaining: 16.2s\n",
      "100:\tlearn: 0.4761856\ttest: 0.5097330\tbest: 0.5096909 (99)\ttotal: 1.26s\tremaining: 11.9s\n",
      "200:\tlearn: 0.4561522\ttest: 0.5018626\tbest: 0.5013726 (193)\ttotal: 2.54s\tremaining: 10.7s\n",
      "bestTest = 0.5013725528\n",
      "bestIteration = 193\n",
      "Shrink model to first 194 iterations.\n"
     ]
    },
    {
     "name": "stderr",
     "output_type": "stream",
     "text": [
      "[I 2024-11-05 20:11:30,961] Trial 23 finished with value: 0.8333558176575927 and parameters: {'iterations': 1050, 'learning_rate': 0.15320997896163788, 'depth': 7, 'l2_leaf_reg': 0.7092295135278277}. Best is trial 2 with value: 0.8360435154465309.\n"
     ]
    },
    {
     "name": "stdout",
     "output_type": "stream",
     "text": [
      "0:\tlearn: 1.3752014\ttest: 1.3696856\tbest: 1.3696856 (0)\ttotal: 30.4ms\tremaining: 34.9s\n",
      "100:\tlearn: 0.4722719\ttest: 0.5070961\tbest: 0.5070961 (100)\ttotal: 2.99s\tremaining: 31.1s\n",
      "200:\tlearn: 0.4476968\ttest: 0.5006027\tbest: 0.4998089 (188)\ttotal: 5.86s\tremaining: 27.7s\n",
      "bestTest = 0.4998088913\n",
      "bestIteration = 188\n",
      "Shrink model to first 189 iterations.\n"
     ]
    },
    {
     "name": "stderr",
     "output_type": "stream",
     "text": [
      "[I 2024-11-05 20:11:40,284] Trial 24 finished with value: 0.834809263249848 and parameters: {'iterations': 1151, 'learning_rate': 0.10603583002994452, 'depth': 9, 'l2_leaf_reg': 0.8482134513823167}. Best is trial 2 with value: 0.8360435154465309.\n"
     ]
    },
    {
     "name": "stdout",
     "output_type": "stream",
     "text": [
      "0:\tlearn: 1.2347956\ttest: 1.2276487\tbest: 1.2276487 (0)\ttotal: 47.7ms\tremaining: 57.2s\n",
      "100:\tlearn: 0.4458689\ttest: 0.5105267\tbest: 0.5088504 (61)\ttotal: 4.64s\tremaining: 50.5s\n",
      "bestTest = 0.5088504386\n",
      "bestIteration = 61\n",
      "Shrink model to first 62 iterations.\n"
     ]
    },
    {
     "name": "stderr",
     "output_type": "stream",
     "text": [
      "[I 2024-11-05 20:11:48,865] Trial 25 finished with value: 0.831446128107467 and parameters: {'iterations': 1200, 'learning_rate': 0.17398657885164256, 'depth': 10, 'l2_leaf_reg': 0.42472822085620177}. Best is trial 2 with value: 0.8360435154465309.\n"
     ]
    },
    {
     "name": "stdout",
     "output_type": "stream",
     "text": [
      "0:\tlearn: 1.3158798\ttest: 1.3107228\tbest: 1.3107228 (0)\ttotal: 155ms\tremaining: 2m 49s\n",
      "100:\tlearn: 0.4420968\ttest: 0.5107025\tbest: 0.5089021 (84)\ttotal: 15.5s\tremaining: 2m 32s\n",
      "bestTest = 0.5089020774\n",
      "bestIteration = 84\n",
      "Shrink model to first 85 iterations.\n"
     ]
    },
    {
     "name": "stderr",
     "output_type": "stream",
     "text": [
      "[I 2024-11-05 20:12:17,973] Trial 26 finished with value: 0.8321504306387856 and parameters: {'iterations': 1097, 'learning_rate': 0.12809655183945884, 'depth': 12, 'l2_leaf_reg': 0.5571252122740328}. Best is trial 2 with value: 0.8360435154465309.\n"
     ]
    },
    {
     "name": "stdout",
     "output_type": "stream",
     "text": [
      "0:\tlearn: 1.2625863\ttest: 1.2447409\tbest: 1.2447409 (0)\ttotal: 10.9ms\tremaining: 10.8s\n",
      "100:\tlearn: 0.4820789\ttest: 0.5108481\tbest: 0.5108481 (100)\ttotal: 974ms\tremaining: 8.63s\n",
      "200:\tlearn: 0.4617117\ttest: 0.5023155\tbest: 0.5022194 (199)\ttotal: 1.95s\tremaining: 7.71s\n",
      "300:\tlearn: 0.4515595\ttest: 0.5007476\tbest: 0.5003731 (295)\ttotal: 2.97s\tremaining: 6.84s\n",
      "bestTest = 0.5003730936\n",
      "bestIteration = 295\n",
      "Shrink model to first 296 iterations.\n"
     ]
    },
    {
     "name": "stderr",
     "output_type": "stream",
     "text": [
      "[I 2024-11-05 20:12:22,789] Trial 27 finished with value: 0.8360248589698913 and parameters: {'iterations': 995, 'learning_rate': 0.1852153728765267, 'depth': 6, 'l2_leaf_reg': 0.8945878029992758}. Best is trial 2 with value: 0.8360435154465309.\n"
     ]
    },
    {
     "name": "stdout",
     "output_type": "stream",
     "text": [
      "0:\tlearn: 1.2896601\ttest: 1.2727711\tbest: 1.2727711 (0)\ttotal: 9.05ms\tremaining: 8.93s\n",
      "100:\tlearn: 0.4937825\ttest: 0.5167608\tbest: 0.5167608 (100)\ttotal: 791ms\tremaining: 6.94s\n",
      "200:\tlearn: 0.4736917\ttest: 0.5037194\tbest: 0.5035899 (198)\ttotal: 1.55s\tremaining: 6.09s\n",
      "300:\tlearn: 0.4633046\ttest: 0.5001042\tbest: 0.4998844 (297)\ttotal: 2.32s\tremaining: 5.29s\n",
      "400:\tlearn: 0.4562254\ttest: 0.4994263\tbest: 0.4990552 (387)\ttotal: 3.07s\tremaining: 4.49s\n",
      "500:\tlearn: 0.4510051\ttest: 0.4978500\tbest: 0.4977453 (492)\ttotal: 3.83s\tremaining: 3.72s\n",
      "600:\tlearn: 0.4464935\ttest: 0.4975859\tbest: 0.4972005 (587)\ttotal: 4.58s\tremaining: 2.95s\n",
      "bestTest = 0.497200492\n",
      "bestIteration = 587\n",
      "Shrink model to first 588 iterations.\n"
     ]
    },
    {
     "name": "stderr",
     "output_type": "stream",
     "text": [
      "[I 2024-11-05 20:12:28,942] Trial 28 finished with value: 0.8347819132603761 and parameters: {'iterations': 988, 'learning_rate': 0.18440101648150578, 'depth': 5, 'l2_leaf_reg': 0.9938779909092228}. Best is trial 2 with value: 0.8360435154465309.\n"
     ]
    },
    {
     "name": "stdout",
     "output_type": "stream",
     "text": [
      "0:\tlearn: 1.3014621\ttest: 1.2853960\tbest: 1.2853960 (0)\ttotal: 12.2ms\tremaining: 11.4s\n",
      "100:\tlearn: 0.4861800\ttest: 0.5148511\tbest: 0.5147465 (99)\ttotal: 960ms\tremaining: 7.97s\n",
      "200:\tlearn: 0.4644632\ttest: 0.5044376\tbest: 0.5044376 (200)\ttotal: 1.95s\tremaining: 7.17s\n",
      "300:\tlearn: 0.4538874\ttest: 0.5025615\tbest: 0.5014162 (290)\ttotal: 2.91s\tremaining: 6.17s\n",
      "bestTest = 0.5014162034\n",
      "bestIteration = 290\n",
      "Shrink model to first 291 iterations.\n"
     ]
    },
    {
     "name": "stderr",
     "output_type": "stream",
     "text": [
      "[I 2024-11-05 20:12:33,594] Trial 29 finished with value: 0.8339502018380371 and parameters: {'iterations': 939, 'learning_rate': 0.16180808328202856, 'depth': 6, 'l2_leaf_reg': 0.9024822015334011}. Best is trial 2 with value: 0.8360435154465309.\n"
     ]
    },
    {
     "name": "stdout",
     "output_type": "stream",
     "text": [
      "0:\tlearn: 1.2855971\ttest: 1.2685205\tbest: 1.2685205 (0)\ttotal: 11.2ms\tremaining: 11.5s\n",
      "100:\tlearn: 0.4918757\ttest: 0.5164734\tbest: 0.5164734 (100)\ttotal: 768ms\tremaining: 7s\n",
      "200:\tlearn: 0.4719499\ttest: 0.5030601\tbest: 0.5030601 (200)\ttotal: 1.53s\tremaining: 6.23s\n",
      "300:\tlearn: 0.4617524\ttest: 0.5003470\tbest: 0.5003470 (300)\ttotal: 2.27s\tremaining: 5.43s\n",
      "400:\tlearn: 0.4552649\ttest: 0.5000122\tbest: 0.4999831 (399)\ttotal: 3.07s\tremaining: 4.76s\n",
      "500:\tlearn: 0.4503850\ttest: 0.4991000\tbest: 0.4987857 (464)\ttotal: 4.01s\tremaining: 4.17s\n",
      "bestTest = 0.4987857327\n",
      "bestIteration = 464\n",
      "Shrink model to first 465 iterations.\n"
     ]
    },
    {
     "name": "stderr",
     "output_type": "stream",
     "text": [
      "[I 2024-11-05 20:12:39,062] Trial 30 finished with value: 0.83437927300283 and parameters: {'iterations': 1022, 'learning_rate': 0.1870878869308002, 'depth': 5, 'l2_leaf_reg': 0.6230913555360952}. Best is trial 2 with value: 0.8360435154465309.\n"
     ]
    },
    {
     "name": "stdout",
     "output_type": "stream",
     "text": [
      "0:\tlearn: 1.2739218\ttest: 1.2643440\tbest: 1.2643440 (0)\ttotal: 20.8ms\tremaining: 22s\n",
      "100:\tlearn: 0.4665015\ttest: 0.5063022\tbest: 0.5062589 (99)\ttotal: 1.82s\tremaining: 17.3s\n",
      "200:\tlearn: 0.4446093\ttest: 0.5029487\tbest: 0.5021239 (193)\ttotal: 3.6s\tremaining: 15.4s\n",
      "bestTest = 0.5021238509\n",
      "bestIteration = 193\n",
      "Shrink model to first 194 iterations.\n"
     ]
    },
    {
     "name": "stderr",
     "output_type": "stream",
     "text": [
      "[I 2024-11-05 20:12:45,274] Trial 31 finished with value: 0.8333045216618946 and parameters: {'iterations': 1059, 'learning_rate': 0.1605810910318839, 'depth': 8, 'l2_leaf_reg': 0.7672057128176479}. Best is trial 2 with value: 0.8360435154465309.\n"
     ]
    },
    {
     "name": "stdout",
     "output_type": "stream",
     "text": [
      "0:\tlearn: 1.4164169\ttest: 1.4092245\tbest: 1.4092245 (0)\ttotal: 14ms\tremaining: 15.6s\n",
      "100:\tlearn: 0.4961603\ttest: 0.5236576\tbest: 0.5236576 (100)\ttotal: 1.27s\tremaining: 12.8s\n",
      "200:\tlearn: 0.4723611\ttest: 0.5071335\tbest: 0.5071335 (200)\ttotal: 2.53s\tremaining: 11.5s\n",
      "300:\tlearn: 0.4603912\ttest: 0.5029166\tbest: 0.5029166 (300)\ttotal: 3.78s\tremaining: 10.3s\n",
      "400:\tlearn: 0.4513305\ttest: 0.5005137\tbest: 0.5003718 (387)\ttotal: 5.04s\tremaining: 9s\n",
      "500:\tlearn: 0.4451666\ttest: 0.4994281\tbest: 0.4994036 (492)\ttotal: 6.34s\tremaining: 7.8s\n",
      "600:\tlearn: 0.4397534\ttest: 0.4988006\tbest: 0.4985952 (592)\ttotal: 7.6s\tremaining: 6.52s\n",
      "bestTest = 0.498595154\n",
      "bestIteration = 592\n",
      "Shrink model to first 593 iterations.\n"
     ]
    },
    {
     "name": "stderr",
     "output_type": "stream",
     "text": [
      "[I 2024-11-05 20:12:54,990] Trial 32 finished with value: 0.8366598251811559 and parameters: {'iterations': 1117, 'learning_rate': 0.09100148551636808, 'depth': 7, 'l2_leaf_reg': 0.8791036277340738}. Best is trial 32 with value: 0.8366598251811559.\n"
     ]
    },
    {
     "name": "stdout",
     "output_type": "stream",
     "text": [
      "0:\tlearn: 1.4201555\ttest: 1.4130912\tbest: 1.4130912 (0)\ttotal: 13.9ms\tremaining: 14.1s\n",
      "100:\tlearn: 0.4966378\ttest: 0.5235902\tbest: 0.5235902 (100)\ttotal: 1.27s\tremaining: 11.4s\n",
      "200:\tlearn: 0.4725637\ttest: 0.5063636\tbest: 0.5063636 (200)\ttotal: 2.52s\tremaining: 10.1s\n",
      "300:\tlearn: 0.4607286\ttest: 0.5012722\tbest: 0.5012722 (300)\ttotal: 3.77s\tremaining: 8.88s\n",
      "400:\tlearn: 0.4519661\ttest: 0.4990406\tbest: 0.4985234 (386)\ttotal: 5.05s\tremaining: 7.65s\n",
      "500:\tlearn: 0.4454729\ttest: 0.4979295\tbest: 0.4978182 (488)\ttotal: 6.34s\tremaining: 6.43s\n",
      "bestTest = 0.4978181502\n",
      "bestIteration = 488\n",
      "Shrink model to first 489 iterations.\n"
     ]
    },
    {
     "name": "stderr",
     "output_type": "stream",
     "text": [
      "[I 2024-11-05 20:13:03,350] Trial 33 finished with value: 0.834746055973221 and parameters: {'iterations': 1009, 'learning_rate': 0.08913851888617565, 'depth': 7, 'l2_leaf_reg': 0.8325983328701462}. Best is trial 32 with value: 0.8366598251811559.\n"
     ]
    },
    {
     "name": "stdout",
     "output_type": "stream",
     "text": [
      "0:\tlearn: 1.4260183\ttest: 1.4161153\tbest: 1.4161153 (0)\ttotal: 11.7ms\tremaining: 13s\n",
      "100:\tlearn: 0.5070460\ttest: 0.5312046\tbest: 0.5312046 (100)\ttotal: 977ms\tremaining: 9.8s\n",
      "200:\tlearn: 0.4823434\ttest: 0.5103953\tbest: 0.5103953 (200)\ttotal: 1.93s\tremaining: 8.79s\n",
      "300:\tlearn: 0.4697644\ttest: 0.5040849\tbest: 0.5040849 (300)\ttotal: 2.88s\tremaining: 7.77s\n",
      "400:\tlearn: 0.4618289\ttest: 0.5006694\tbest: 0.5006694 (400)\ttotal: 3.81s\tremaining: 6.78s\n",
      "500:\tlearn: 0.4557635\ttest: 0.4993504\tbest: 0.4987685 (488)\ttotal: 4.76s\tremaining: 5.83s\n",
      "600:\tlearn: 0.4509335\ttest: 0.4985517\tbest: 0.4984585 (587)\ttotal: 5.85s\tremaining: 4.99s\n",
      "700:\tlearn: 0.4471743\ttest: 0.4976361\tbest: 0.4976361 (700)\ttotal: 6.88s\tremaining: 4.05s\n",
      "800:\tlearn: 0.4439366\ttest: 0.4976064\tbest: 0.4975072 (778)\ttotal: 7.91s\tremaining: 3.09s\n",
      "bestTest = 0.4975071821\n",
      "bestIteration = 778\n",
      "Shrink model to first 779 iterations.\n"
     ]
    },
    {
     "name": "stderr",
     "output_type": "stream",
     "text": [
      "[I 2024-11-05 20:13:12,983] Trial 34 finished with value: 0.8346824024168903 and parameters: {'iterations': 1114, 'learning_rate': 0.09217075601878218, 'depth': 6, 'l2_leaf_reg': 0.9055669338617756}. Best is trial 32 with value: 0.8366598251811559.\n"
     ]
    },
    {
     "name": "stdout",
     "output_type": "stream",
     "text": [
      "0:\tlearn: 1.4282619\ttest: 1.4214780\tbest: 1.4214780 (0)\ttotal: 16.4ms\tremaining: 17.1s\n",
      "100:\tlearn: 0.4983780\ttest: 0.5244327\tbest: 0.5244327 (100)\ttotal: 1.27s\tremaining: 11.9s\n",
      "200:\tlearn: 0.4744786\ttest: 0.5070619\tbest: 0.5070619 (200)\ttotal: 2.52s\tremaining: 10.5s\n",
      "300:\tlearn: 0.4624181\ttest: 0.5023577\tbest: 0.5023577 (300)\ttotal: 3.76s\tremaining: 9.25s\n",
      "400:\tlearn: 0.4544402\ttest: 0.5010536\tbest: 0.5004286 (379)\ttotal: 5.01s\tremaining: 8.01s\n",
      "500:\tlearn: 0.4478539\ttest: 0.5002080\tbest: 0.4999981 (492)\ttotal: 6.27s\tremaining: 6.77s\n",
      "600:\tlearn: 0.4426158\ttest: 0.4997711\tbest: 0.4993059 (573)\ttotal: 7.57s\tremaining: 5.55s\n",
      "bestTest = 0.499305868\n",
      "bestIteration = 573\n",
      "Shrink model to first 574 iterations.\n"
     ]
    },
    {
     "name": "stderr",
     "output_type": "stream",
     "text": [
      "[I 2024-11-05 20:13:22,397] Trial 35 finished with value: 0.8343751158882263 and parameters: {'iterations': 1042, 'learning_rate': 0.08511745766555581, 'depth': 7, 'l2_leaf_reg': 0.8628004852916403}. Best is trial 32 with value: 0.8366598251811559.\n"
     ]
    },
    {
     "name": "stdout",
     "output_type": "stream",
     "text": [
      "0:\tlearn: 1.4036527\ttest: 1.3925999\tbest: 1.3925999 (0)\ttotal: 13.2ms\tremaining: 14.2s\n",
      "100:\tlearn: 0.5022288\ttest: 0.5263486\tbest: 0.5263486 (100)\ttotal: 976ms\tremaining: 9.43s\n",
      "200:\tlearn: 0.4784555\ttest: 0.5075874\tbest: 0.5075874 (200)\ttotal: 1.92s\tremaining: 8.38s\n",
      "300:\tlearn: 0.4660410\ttest: 0.5020050\tbest: 0.5020050 (300)\ttotal: 2.87s\tremaining: 7.4s\n",
      "400:\tlearn: 0.4583565\ttest: 0.4998894\tbest: 0.4997950 (390)\ttotal: 3.82s\tremaining: 6.44s\n",
      "500:\tlearn: 0.4521825\ttest: 0.4994206\tbest: 0.4991582 (490)\ttotal: 4.78s\tremaining: 5.5s\n",
      "600:\tlearn: 0.4473948\ttest: 0.4988438\tbest: 0.4986399 (597)\ttotal: 5.75s\tremaining: 4.56s\n",
      "700:\tlearn: 0.4433372\ttest: 0.4984555\tbest: 0.4982958 (653)\ttotal: 6.71s\tremaining: 3.6s\n",
      "bestTest = 0.4982958084\n",
      "bestIteration = 653\n",
      "Shrink model to first 654 iterations.\n"
     ]
    },
    {
     "name": "stderr",
     "output_type": "stream",
     "text": [
      "[I 2024-11-05 20:13:30,589] Trial 36 finished with value: 0.8340379154396572 and parameters: {'iterations': 1077, 'learning_rate': 0.10415971351670317, 'depth': 6, 'l2_leaf_reg': 0.6537695021626025}. Best is trial 32 with value: 0.8366598251811559.\n"
     ]
    },
    {
     "name": "stdout",
     "output_type": "stream",
     "text": [
      "0:\tlearn: 1.4750608\ttest: 1.4707633\tbest: 1.4707633 (0)\ttotal: 20.9ms\tremaining: 19.4s\n",
      "100:\tlearn: 0.5042413\ttest: 0.5307358\tbest: 0.5307358 (100)\ttotal: 1.82s\tremaining: 15s\n",
      "200:\tlearn: 0.4768612\ttest: 0.5101023\tbest: 0.5101023 (200)\ttotal: 3.58s\tremaining: 13s\n",
      "300:\tlearn: 0.4632837\ttest: 0.5034118\tbest: 0.5034118 (300)\ttotal: 5.36s\tremaining: 11.2s\n",
      "400:\tlearn: 0.4541344\ttest: 0.5002820\tbest: 0.5002820 (400)\ttotal: 7.16s\tremaining: 9.48s\n",
      "500:\tlearn: 0.4473973\ttest: 0.5001930\tbest: 0.4996048 (492)\ttotal: 8.94s\tremaining: 7.69s\n",
      "600:\tlearn: 0.4417957\ttest: 0.4997510\tbest: 0.4995373 (578)\ttotal: 10.9s\tremaining: 6.01s\n",
      "bestTest = 0.4995372958\n",
      "bestIteration = 578\n",
      "Shrink model to first 579 iterations.\n"
     ]
    },
    {
     "name": "stderr",
     "output_type": "stream",
     "text": [
      "[I 2024-11-05 20:13:43,984] Trial 37 finished with value: 0.8348432602128334 and parameters: {'iterations': 932, 'learning_rate': 0.0604160938507694, 'depth': 8, 'l2_leaf_reg': 0.967446725458811}. Best is trial 32 with value: 0.8366598251811559.\n"
     ]
    },
    {
     "name": "stdout",
     "output_type": "stream",
     "text": [
      "0:\tlearn: 1.3703729\ttest: 1.3576433\tbest: 1.3576433 (0)\ttotal: 12.7ms\tremaining: 13.8s\n",
      "100:\tlearn: 0.4956720\ttest: 0.5219495\tbest: 0.5219495 (100)\ttotal: 997ms\tremaining: 9.73s\n",
      "200:\tlearn: 0.4730660\ttest: 0.5059030\tbest: 0.5059030 (200)\ttotal: 1.96s\tremaining: 8.63s\n",
      "300:\tlearn: 0.4621177\ttest: 0.5013603\tbest: 0.5013603 (300)\ttotal: 2.9s\tremaining: 7.59s\n",
      "400:\tlearn: 0.4544512\ttest: 0.4993881\tbest: 0.4992313 (375)\ttotal: 3.87s\tremaining: 6.61s\n",
      "500:\tlearn: 0.4486194\ttest: 0.4995317\tbest: 0.4990241 (414)\ttotal: 4.84s\tremaining: 5.66s\n",
      "bestTest = 0.4990240886\n",
      "bestIteration = 414\n",
      "Shrink model to first 415 iterations.\n"
     ]
    },
    {
     "name": "stderr",
     "output_type": "stream",
     "text": [
      "[I 2024-11-05 20:13:49,938] Trial 38 finished with value: 0.8338697930088661 and parameters: {'iterations': 1087, 'learning_rate': 0.12238980049759966, 'depth': 6, 'l2_leaf_reg': 0.7956263084857446}. Best is trial 32 with value: 0.8366598251811559.\n"
     ]
    },
    {
     "name": "stdout",
     "output_type": "stream",
     "text": [
      "0:\tlearn: 1.3822130\ttest: 1.3738682\tbest: 1.3738682 (0)\ttotal: 15.5ms\tremaining: 17.5s\n",
      "100:\tlearn: 0.4881727\ttest: 0.5156359\tbest: 0.5156359 (100)\ttotal: 1.43s\tremaining: 14.6s\n",
      "200:\tlearn: 0.4649050\ttest: 0.5034688\tbest: 0.5034140 (198)\ttotal: 2.7s\tremaining: 12.5s\n",
      "300:\tlearn: 0.4538023\ttest: 0.5013945\tbest: 0.5013945 (300)\ttotal: 3.99s\tremaining: 11s\n",
      "400:\tlearn: 0.4460529\ttest: 0.5007736\tbest: 0.5007561 (398)\ttotal: 5.26s\tremaining: 9.56s\n",
      "500:\tlearn: 0.4399226\ttest: 0.5007009\tbest: 0.5001294 (431)\ttotal: 6.52s\tremaining: 8.19s\n",
      "bestTest = 0.5001293618\n",
      "bestIteration = 431\n",
      "Shrink model to first 432 iterations.\n"
     ]
    },
    {
     "name": "stderr",
     "output_type": "stream",
     "text": [
      "[I 2024-11-05 20:13:57,820] Trial 39 finished with value: 0.8360720419178567 and parameters: {'iterations': 1130, 'learning_rate': 0.10825386944837796, 'depth': 7, 'l2_leaf_reg': 0.5720224310044517}. Best is trial 32 with value: 0.8366598251811559.\n"
     ]
    },
    {
     "name": "stdout",
     "output_type": "stream",
     "text": [
      "0:\tlearn: 1.4495400\ttest: 1.4357192\tbest: 1.4357192 (0)\ttotal: 8.75ms\tremaining: 9.78s\n",
      "100:\tlearn: 0.5363120\ttest: 0.5597702\tbest: 0.5597702 (100)\ttotal: 720ms\tremaining: 7.26s\n",
      "200:\tlearn: 0.5068631\ttest: 0.5292101\tbest: 0.5292101 (200)\ttotal: 1.35s\tremaining: 6.19s\n",
      "300:\tlearn: 0.4940455\ttest: 0.5175681\tbest: 0.5175681 (300)\ttotal: 2s\tremaining: 5.43s\n",
      "400:\tlearn: 0.4856791\ttest: 0.5117667\tbest: 0.5117570 (399)\ttotal: 2.65s\tremaining: 4.74s\n",
      "500:\tlearn: 0.4797383\ttest: 0.5080658\tbest: 0.5080658 (500)\ttotal: 3.35s\tremaining: 4.13s\n",
      "600:\tlearn: 0.4750845\ttest: 0.5061270\tbest: 0.5061114 (599)\ttotal: 3.96s\tremaining: 3.41s\n",
      "700:\tlearn: 0.4716376\ttest: 0.5041235\tbest: 0.5040486 (683)\ttotal: 4.62s\tremaining: 2.75s\n",
      "800:\tlearn: 0.4685001\ttest: 0.5032215\tbest: 0.5031612 (782)\ttotal: 5.25s\tremaining: 2.08s\n",
      "bestTest = 0.5031612063\n",
      "bestIteration = 782\n",
      "Shrink model to first 783 iterations.\n"
     ]
    },
    {
     "name": "stderr",
     "output_type": "stream",
     "text": [
      "[I 2024-11-05 20:14:04,519] Trial 40 finished with value: 0.8313842534971254 and parameters: {'iterations': 1119, 'learning_rate': 0.09758664188166455, 'depth': 4, 'l2_leaf_reg': 0.5836573461767784}. Best is trial 32 with value: 0.8366598251811559.\n"
     ]
    },
    {
     "name": "stdout",
     "output_type": "stream",
     "text": [
      "0:\tlearn: 1.3769856\ttest: 1.3684690\tbest: 1.3684690 (0)\ttotal: 15.3ms\tremaining: 17.4s\n",
      "100:\tlearn: 0.4880746\ttest: 0.5159432\tbest: 0.5159432 (100)\ttotal: 1.27s\tremaining: 13s\n",
      "200:\tlearn: 0.4647144\ttest: 0.5024696\tbest: 0.5024696 (200)\ttotal: 2.52s\tremaining: 11.8s\n",
      "300:\tlearn: 0.4531271\ttest: 0.4993989\tbest: 0.4991571 (290)\ttotal: 3.78s\tremaining: 10.5s\n",
      "400:\tlearn: 0.4452805\ttest: 0.4998528\tbest: 0.4988587 (336)\ttotal: 5.04s\tremaining: 9.27s\n",
      "bestTest = 0.4988587236\n",
      "bestIteration = 336\n",
      "Shrink model to first 337 iterations.\n"
     ]
    },
    {
     "name": "stderr",
     "output_type": "stream",
     "text": [
      "[I 2024-11-05 20:14:10,933] Trial 41 finished with value: 0.8337310352761114 and parameters: {'iterations': 1138, 'learning_rate': 0.11092537222680603, 'depth': 7, 'l2_leaf_reg': 0.45938169512954385}. Best is trial 32 with value: 0.8366598251811559.\n"
     ]
    },
    {
     "name": "stdout",
     "output_type": "stream",
     "text": [
      "0:\tlearn: 1.3915272\ttest: 1.3834914\tbest: 1.3834914 (0)\ttotal: 16.1ms\tremaining: 16.2s\n",
      "100:\tlearn: 0.4908982\ttest: 0.5185150\tbest: 0.5185150 (100)\ttotal: 1.26s\tremaining: 11.3s\n",
      "200:\tlearn: 0.4679770\ttest: 0.5039912\tbest: 0.5038962 (198)\ttotal: 2.66s\tremaining: 10.6s\n",
      "300:\tlearn: 0.4558651\ttest: 0.5002075\tbest: 0.5000391 (295)\ttotal: 4.09s\tremaining: 9.57s\n",
      "400:\tlearn: 0.4476182\ttest: 0.4989675\tbest: 0.4989675 (400)\ttotal: 5.36s\tremaining: 8.07s\n",
      "500:\tlearn: 0.4412859\ttest: 0.4987716\tbest: 0.4984087 (490)\ttotal: 6.64s\tremaining: 6.68s\n",
      "bestTest = 0.498408664\n",
      "bestIteration = 490\n",
      "Shrink model to first 491 iterations.\n"
     ]
    },
    {
     "name": "stderr",
     "output_type": "stream",
     "text": [
      "[I 2024-11-05 20:14:19,622] Trial 42 finished with value: 0.8356394832585304 and parameters: {'iterations': 1005, 'learning_rate': 0.10351196151499743, 'depth': 7, 'l2_leaf_reg': 0.5454832583169122}. Best is trial 32 with value: 0.8366598251811559.\n"
     ]
    },
    {
     "name": "stdout",
     "output_type": "stream",
     "text": [
      "0:\tlearn: 1.4378250\ttest: 1.4285353\tbest: 1.4285353 (0)\ttotal: 10.8ms\tremaining: 11.2s\n",
      "100:\tlearn: 0.5099541\ttest: 0.5336296\tbest: 0.5336296 (100)\ttotal: 1.01s\tremaining: 9.34s\n",
      "200:\tlearn: 0.4837783\ttest: 0.5111116\tbest: 0.5111116 (200)\ttotal: 1.95s\tremaining: 8.13s\n",
      "300:\tlearn: 0.4713371\ttest: 0.5043925\tbest: 0.5043925 (300)\ttotal: 2.92s\tremaining: 7.14s\n",
      "400:\tlearn: 0.4636910\ttest: 0.5011150\tbest: 0.5011150 (400)\ttotal: 3.87s\tremaining: 6.15s\n",
      "500:\tlearn: 0.4571313\ttest: 0.4989172\tbest: 0.4988606 (498)\ttotal: 4.83s\tremaining: 5.18s\n",
      "600:\tlearn: 0.4523641\ttest: 0.4979903\tbest: 0.4979195 (598)\ttotal: 5.79s\tremaining: 4.21s\n",
      "700:\tlearn: 0.4483140\ttest: 0.4987735\tbest: 0.4978590 (609)\ttotal: 6.75s\tremaining: 3.25s\n",
      "bestTest = 0.4978589993\n",
      "bestIteration = 609\n",
      "Shrink model to first 610 iterations.\n"
     ]
    },
    {
     "name": "stderr",
     "output_type": "stream",
     "text": [
      "[I 2024-11-05 20:14:27,394] Trial 43 finished with value: 0.8348169456415838 and parameters: {'iterations': 1038, 'learning_rate': 0.08590770722349775, 'depth': 6, 'l2_leaf_reg': 0.3302019957501927}. Best is trial 32 with value: 0.8366598251811559.\n"
     ]
    },
    {
     "name": "stdout",
     "output_type": "stream",
     "text": [
      "0:\tlearn: 1.3603846\ttest: 1.3528585\tbest: 1.3528585 (0)\ttotal: 20.7ms\tremaining: 22.8s\n",
      "100:\tlearn: 0.4767549\ttest: 0.5097189\tbest: 0.5097189 (100)\ttotal: 1.81s\tremaining: 18s\n",
      "200:\tlearn: 0.4541937\ttest: 0.5028580\tbest: 0.5026312 (199)\ttotal: 3.63s\tremaining: 16.3s\n",
      "bestTest = 0.5026311521\n",
      "bestIteration = 199\n",
      "Shrink model to first 200 iterations.\n"
     ]
    },
    {
     "name": "stderr",
     "output_type": "stream",
     "text": [
      "[I 2024-11-05 20:14:33,695] Trial 44 finished with value: 0.8334169285567226 and parameters: {'iterations': 1103, 'learning_rate': 0.11573201868049651, 'depth': 8, 'l2_leaf_reg': 0.6708131029195783}. Best is trial 32 with value: 0.8366598251811559.\n"
     ]
    },
    {
     "name": "stdout",
     "output_type": "stream",
     "text": [
      "0:\tlearn: 1.4378244\ttest: 1.4313749\tbest: 1.4313749 (0)\ttotal: 16ms\tremaining: 18.2s\n",
      "100:\tlearn: 0.5013236\ttest: 0.5284342\tbest: 0.5284342 (100)\ttotal: 1.28s\tremaining: 13.2s\n",
      "200:\tlearn: 0.4761587\ttest: 0.5093203\tbest: 0.5093203 (200)\ttotal: 2.54s\tremaining: 11.9s\n",
      "300:\tlearn: 0.4639434\ttest: 0.5037066\tbest: 0.5037066 (300)\ttotal: 3.8s\tremaining: 10.6s\n",
      "400:\tlearn: 0.4550388\ttest: 0.5006509\tbest: 0.5003336 (385)\ttotal: 5.05s\tremaining: 9.33s\n",
      "500:\tlearn: 0.4485764\ttest: 0.4997715\tbest: 0.4997001 (487)\ttotal: 6.32s\tremaining: 8.08s\n",
      "600:\tlearn: 0.4434462\ttest: 0.4991635\tbest: 0.4989005 (573)\ttotal: 7.62s\tremaining: 6.84s\n",
      "bestTest = 0.4989005191\n",
      "bestIteration = 573\n",
      "Shrink model to first 574 iterations.\n"
     ]
    },
    {
     "name": "stderr",
     "output_type": "stream",
     "text": [
      "[I 2024-11-05 20:14:43,196] Trial 45 finished with value: 0.8359480805776263 and parameters: {'iterations': 1141, 'learning_rate': 0.08040212953069781, 'depth': 7, 'l2_leaf_reg': 0.9391312814395318}. Best is trial 32 with value: 0.8366598251811559.\n"
     ]
    },
    {
     "name": "stdout",
     "output_type": "stream",
     "text": [
      "0:\tlearn: 1.4837314\ttest: 1.4766771\tbest: 1.4766771 (0)\ttotal: 9.83ms\tremaining: 11.2s\n",
      "100:\tlearn: 0.5376906\ttest: 0.5601114\tbest: 0.5601114 (100)\ttotal: 777ms\tremaining: 7.97s\n",
      "200:\tlearn: 0.5051236\ttest: 0.5270030\tbest: 0.5270030 (200)\ttotal: 1.54s\tremaining: 7.15s\n",
      "300:\tlearn: 0.4914501\ttest: 0.5160813\tbest: 0.5160813 (300)\ttotal: 2.38s\tremaining: 6.6s\n",
      "400:\tlearn: 0.4830215\ttest: 0.5099954\tbest: 0.5099954 (400)\ttotal: 3.27s\tremaining: 6s\n",
      "500:\tlearn: 0.4766776\ttest: 0.5059526\tbest: 0.5059526 (500)\ttotal: 4.08s\tremaining: 5.18s\n",
      "600:\tlearn: 0.4716942\ttest: 0.5033388\tbest: 0.5033010 (599)\ttotal: 4.83s\tremaining: 4.3s\n",
      "700:\tlearn: 0.4678460\ttest: 0.5018719\tbest: 0.5016547 (696)\ttotal: 5.59s\tremaining: 3.47s\n",
      "800:\tlearn: 0.4643295\ttest: 0.5000112\tbest: 0.4999398 (794)\ttotal: 6.34s\tremaining: 2.65s\n",
      "900:\tlearn: 0.4611519\ttest: 0.4996131\tbest: 0.4995714 (894)\ttotal: 7.1s\tremaining: 1.85s\n",
      "1000:\tlearn: 0.4584017\ttest: 0.4988047\tbest: 0.4987158 (994)\ttotal: 7.92s\tremaining: 1.07s\n",
      "1100:\tlearn: 0.4560024\ttest: 0.4980060\tbest: 0.4979795 (1097)\ttotal: 8.67s\tremaining: 276ms\n",
      "1135:\tlearn: 0.4552403\ttest: 0.4978962\tbest: 0.4978732 (1129)\ttotal: 8.94s\tremaining: 0us\n",
      "bestTest = 0.497873234\n",
      "bestIteration = 1129\n",
      "Shrink model to first 1130 iterations.\n"
     ]
    },
    {
     "name": "stderr",
     "output_type": "stream",
     "text": [
      "[I 2024-11-05 20:14:53,163] Trial 46 finished with value: 0.8341982231977262 and parameters: {'iterations': 1136, 'learning_rate': 0.06731695888435175, 'depth': 5, 'l2_leaf_reg': 0.9162205227378913}. Best is trial 32 with value: 0.8366598251811559.\n"
     ]
    },
    {
     "name": "stdout",
     "output_type": "stream",
     "text": [
      "0:\tlearn: 1.4497205\ttest: 1.4436908\tbest: 1.4436908 (0)\ttotal: 13.8ms\tremaining: 15.8s\n",
      "100:\tlearn: 0.5045745\ttest: 0.5311159\tbest: 0.5311159 (100)\ttotal: 1.26s\tremaining: 13.1s\n",
      "200:\tlearn: 0.4791037\ttest: 0.5101616\tbest: 0.5101616 (200)\ttotal: 2.5s\tremaining: 11.8s\n",
      "300:\tlearn: 0.4665276\ttest: 0.5038369\tbest: 0.5038369 (300)\ttotal: 3.74s\tremaining: 10.5s\n",
      "400:\tlearn: 0.4581536\ttest: 0.5019817\tbest: 0.5016492 (380)\ttotal: 4.98s\tremaining: 9.27s\n",
      "500:\tlearn: 0.4514541\ttest: 0.5007471\tbest: 0.5006797 (490)\ttotal: 6.23s\tremaining: 8.03s\n",
      "600:\tlearn: 0.4462979\ttest: 0.5002997\tbest: 0.5001526 (555)\ttotal: 7.52s\tremaining: 6.83s\n",
      "700:\tlearn: 0.4421414\ttest: 0.5000812\tbest: 0.5000428 (653)\ttotal: 8.77s\tremaining: 5.58s\n",
      "800:\tlearn: 0.4385637\ttest: 0.4997845\tbest: 0.4996818 (783)\ttotal: 10s\tremaining: 4.34s\n",
      "900:\tlearn: 0.4351251\ttest: 0.5007517\tbest: 0.4996336 (807)\ttotal: 11.3s\tremaining: 3.09s\n",
      "bestTest = 0.4996335695\n",
      "bestIteration = 807\n",
      "Shrink model to first 808 iterations.\n"
     ]
    },
    {
     "name": "stderr",
     "output_type": "stream",
     "text": [
      "[I 2024-11-05 20:15:05,511] Trial 47 finished with value: 0.8356977565650898 and parameters: {'iterations': 1147, 'learning_rate': 0.0745744241713874, 'depth': 7, 'l2_leaf_reg': 0.9515079671429315}. Best is trial 32 with value: 0.8366598251811559.\n"
     ]
    },
    {
     "name": "stdout",
     "output_type": "stream",
     "text": [
      "0:\tlearn: 1.2388749\ttest: 1.2199867\tbest: 1.2199867 (0)\ttotal: 12ms\tremaining: 14.4s\n",
      "100:\tlearn: 0.4798323\ttest: 0.5094866\tbest: 0.5094866 (100)\ttotal: 985ms\tremaining: 10.7s\n",
      "200:\tlearn: 0.4600702\ttest: 0.5033723\tbest: 0.5026278 (153)\ttotal: 1.94s\tremaining: 9.65s\n",
      "bestTest = 0.5026277828\n",
      "bestIteration = 153\n",
      "Shrink model to first 154 iterations.\n"
     ]
    },
    {
     "name": "stderr",
     "output_type": "stream",
     "text": [
      "[I 2024-11-05 20:15:08,800] Trial 48 finished with value: 0.8326852344110647 and parameters: {'iterations': 1200, 'learning_rate': 0.1999787119233336, 'depth': 6, 'l2_leaf_reg': 0.8761502461770297}. Best is trial 32 with value: 0.8366598251811559.\n"
     ]
    },
    {
     "name": "stdout",
     "output_type": "stream",
     "text": [
      "0:\tlearn: 1.4027653\ttest: 1.3963743\tbest: 1.3963743 (0)\ttotal: 19.1ms\tremaining: 16.9s\n",
      "100:\tlearn: 0.4850595\ttest: 0.5185707\tbest: 0.5185707 (100)\ttotal: 1.84s\tremaining: 14.3s\n",
      "200:\tlearn: 0.4611265\ttest: 0.5042939\tbest: 0.5042939 (200)\ttotal: 3.64s\tremaining: 12.4s\n",
      "300:\tlearn: 0.4484850\ttest: 0.5022908\tbest: 0.5020250 (295)\ttotal: 5.44s\tremaining: 10.5s\n",
      "400:\tlearn: 0.4398052\ttest: 0.5022222\tbest: 0.5018566 (322)\ttotal: 7.23s\tremaining: 8.71s\n",
      "bestTest = 0.5018566091\n",
      "bestIteration = 322\n",
      "Shrink model to first 323 iterations.\n"
     ]
    },
    {
     "name": "stderr",
     "output_type": "stream",
     "text": [
      "[I 2024-11-05 20:15:17,386] Trial 49 finished with value: 0.8340080152787727 and parameters: {'iterations': 884, 'learning_rate': 0.09480720811593547, 'depth': 8, 'l2_leaf_reg': 0.8076180707356295}. Best is trial 32 with value: 0.8366598251811559.\n"
     ]
    },
    {
     "name": "stdout",
     "output_type": "stream",
     "text": [
      "Best hyperparameters:  {'iterations': 1117, 'learning_rate': 0.09100148551636808, 'depth': 7, 'l2_leaf_reg': 0.8791036277340738}\n",
      "Best F1:  0.8366598251811559\n",
      "0:\tlearn: 1.4164168\ttest: 1.4092242\tbest: 1.4092242 (0)\ttotal: 16.5ms\tremaining: 18.4s\n",
      "100:\tlearn: 0.4961603\ttest: 0.5236617\tbest: 0.5236617 (100)\ttotal: 1.49s\tremaining: 15s\n",
      "200:\tlearn: 0.4723610\ttest: 0.5071344\tbest: 0.5071344 (200)\ttotal: 2.74s\tremaining: 12.5s\n",
      "300:\tlearn: 0.4603913\ttest: 0.5029164\tbest: 0.5029164 (300)\ttotal: 4.04s\tremaining: 11s\n",
      "400:\tlearn: 0.4513307\ttest: 0.5005136\tbest: 0.5003717 (387)\ttotal: 5.32s\tremaining: 9.49s\n",
      "500:\tlearn: 0.4451669\ttest: 0.4994281\tbest: 0.4994035 (492)\ttotal: 6.6s\tremaining: 8.11s\n",
      "600:\tlearn: 0.4397536\ttest: 0.4988000\tbest: 0.4985946 (592)\ttotal: 7.86s\tremaining: 6.75s\n",
      "700:\tlearn: 0.4358232\ttest: 0.4994808\tbest: 0.4985946 (592)\ttotal: 9.12s\tremaining: 5.41s\n",
      "800:\tlearn: 0.4324402\ttest: 0.5004769\tbest: 0.4985946 (592)\ttotal: 10.4s\tremaining: 4.1s\n",
      "900:\tlearn: 0.4296984\ttest: 0.5024211\tbest: 0.4985946 (592)\ttotal: 11.7s\tremaining: 2.79s\n",
      "1000:\tlearn: 0.4270158\ttest: 0.5030604\tbest: 0.4985946 (592)\ttotal: 12.9s\tremaining: 1.5s\n",
      "1100:\tlearn: 0.4245367\ttest: 0.5034348\tbest: 0.4985946 (592)\ttotal: 14.3s\tremaining: 207ms\n",
      "1116:\tlearn: 0.4238923\ttest: 0.5038113\tbest: 0.4985946 (592)\ttotal: 14.5s\tremaining: 0us\n",
      "bestTest = 0.4985945862\n",
      "bestIteration = 592\n",
      "Shrink model to first 593 iterations.\n"
     ]
    }
   ],
   "source": [
    "# Train the model with hyperparameter tuning\n",
    "model = pipeline.train_with_optuna(X_train, y_train, X_val, y_val, tune=True, n_trials=50)"
   ]
  },
  {
   "cell_type": "code",
   "execution_count": 11,
   "metadata": {
    "execution": {
     "iopub.execute_input": "2024-11-05T20:15:32.567507Z",
     "iopub.status.busy": "2024-11-05T20:15:32.567069Z",
     "iopub.status.idle": "2024-11-05T20:15:32.669268Z",
     "shell.execute_reply": "2024-11-05T20:15:32.668357Z",
     "shell.execute_reply.started": "2024-11-05T20:15:32.567460Z"
    },
    "trusted": true
   },
   "outputs": [],
   "source": [
    "# Create test pool and make predictions\n",
    "test_pool = pipeline.create_pool(X_test)\n",
    "predictions = model.predict(test_pool)\n",
    "predictions_prob = model.predict_proba(test_pool)[:, 1]"
   ]
  },
  {
   "cell_type": "code",
   "execution_count": 12,
   "metadata": {
    "execution": {
     "iopub.execute_input": "2024-11-05T20:15:32.670834Z",
     "iopub.status.busy": "2024-11-05T20:15:32.670521Z",
     "iopub.status.idle": "2024-11-05T20:15:33.772762Z",
     "shell.execute_reply": "2024-11-05T20:15:33.771837Z",
     "shell.execute_reply.started": "2024-11-05T20:15:32.670801Z"
    },
    "trusted": true
   },
   "outputs": [
    {
     "name": "stdout",
     "output_type": "stream",
     "text": [
      "F1 Score: 0.8352469442752656\n",
      "Precision: 0.8677656041274762\n",
      "Recall: 0.8237800687285224\n"
     ]
    },
    {
     "data": {
      "image/png": "[encoded data removed]",
      "text/plain": [
       "<Figure size 800x600 with 1 Axes>"
      ]
     },
     "metadata": {},
     "output_type": "display_data"
    }
   ],
   "source": [
    "# Compute metrics for multi-class classification\n",
    "f1 = f1_score(y_test, predictions, average='weighted')  # Macro average for multi-class\n",
    "precision = precision_score(y_test, predictions, average='weighted')\n",
    "recall = recall_score(y_test, predictions, average='weighted')\n",
    "\n",
    "# Confusion matrix\n",
    "conf_matrix = confusion_matrix(y_test, predictions)\n",
    "\n",
    "# Print metrics\n",
    "print(f\"F1 Score: {f1}\")\n",
    "print(f\"Precision: {precision}\")\n",
    "print(f\"Recall: {recall}\")\n",
    "\n",
    "# Plot confusion matrix using seaborn\n",
    "plt.figure(figsize=(8, 6))\n",
    "sns.heatmap(conf_matrix, annot=True, fmt=\"d\", cmap=\"Blues\", cbar=False)\n",
    "plt.title(\"Confusion Matrix\")\n",
    "plt.xlabel(\"Predicted\")\n",
    "plt.ylabel(\"Actual\")\n",
    "plt.show()"
   ]
  },
  {
   "cell_type": "code",
   "execution_count": 13,
   "metadata": {
    "execution": {
     "iopub.execute_input": "2024-11-05T20:15:33.774808Z",
     "iopub.status.busy": "2024-11-05T20:15:33.774380Z",
     "iopub.status.idle": "2024-11-05T20:15:34.840093Z",
     "shell.execute_reply": "2024-11-05T20:15:34.839147Z",
     "shell.execute_reply.started": "2024-11-05T20:15:33.774750Z"
    },
    "trusted": true
   },
   "outputs": [
    {
     "name": "stdout",
     "output_type": "stream",
     "text": [
      "                precision    recall  f1-score   support\n",
      "\n",
      "           DoS       0.39      0.78      0.52      2025\n",
      "      Exploits       0.84      0.62      0.71      5531\n",
      "       Fuzzers       0.84      0.77      0.80      3007\n",
      "       Generic       1.00      0.97      0.98      9484\n",
      "Reconnaissance       0.86      0.84      0.85      1778\n",
      "\n",
      "      accuracy                           0.82     21825\n",
      "     macro avg       0.78      0.80      0.77     21825\n",
      "  weighted avg       0.87      0.82      0.84     21825\n",
      "\n"
     ]
    }
   ],
   "source": [
    "from sklearn.metrics import classification_report\n",
    "\n",
    "# Generate the classification report\n",
    "report = classification_report(y_test, predictions)\n",
    "# Display the report\n",
    "print(report)"
   ]
  },
  {
   "cell_type": "code",
   "execution_count": 14,
   "metadata": {
    "execution": {
     "iopub.execute_input": "2024-11-05T20:15:34.841779Z",
     "iopub.status.busy": "2024-11-05T20:15:34.841371Z",
     "iopub.status.idle": "2024-11-05T20:15:35.252623Z",
     "shell.execute_reply": "2024-11-05T20:15:35.251677Z",
     "shell.execute_reply.started": "2024-11-05T20:15:34.841731Z"
    },
    "trusted": true
   },
   "outputs": [
    {
     "data": {
      "image/png": "[encoded data removed]",
      "text/plain": [
       "<Figure size 1000x600 with 1 Axes>"
      ]
     },
     "metadata": {},
     "output_type": "display_data"
    }
   ],
   "source": [
    "# Get feature importance\n",
    "feature_importances = model.get_feature_importance()\n",
    "\n",
    "# Create a DataFrame for better visualization\n",
    "features_df = pd.DataFrame({\n",
    "    'Feature': model.feature_names_,\n",
    "    'Importance': feature_importances\n",
    "}).sort_values(by='Importance', ascending=False)\n",
    "\n",
    "def plot_feature_importance(top_n=20):\n",
    "    \"\"\"Plots the top N important features.\"\"\"\n",
    "\n",
    "    # Select top N features\n",
    "    top_features = features_df.head(top_n)\n",
    "\n",
    "    plt.figure(figsize=(10, 6))\n",
    "    sns.barplot(x='Importance', y='Feature', data=top_features)\n",
    "    plt.title(f'Top {top_n} Most Important Features')\n",
    "    plt.xlabel('Importance')\n",
    "    plt.ylabel('Feature')\n",
    "    plt.tight_layout()\n",
    "    plt.show()\n",
    "\n",
    "plot_feature_importance()"
   ]
  }
 ],
 "metadata": {
  "accelerator": "GPU",
  "colab": {
   "authorship_tag": "ABX9TyPKm5aEnDucAiM5H6eCugQa",
   "gpuType": "T4",
   "mount_file_id": "1sOikQEKH7NguCPqB7Db19xNo3Gkw96xT",
   "provenance": []
  },
  "kaggle": {
   "accelerator": "gpu",
   "dataSources": [
    {
     "datasetId": 2391328,
     "sourceId": 9350725,
     "sourceType": "datasetVersion"
    }
   ],
   "dockerImageVersionId": 30787,
   "isGpuEnabled": true,
   "isInternetEnabled": true,
   "language": "python",
   "sourceType": "notebook"
  },
  "kernelspec": {
   "display_name": "Python 3",
   "language": "python",
   "name": "python3"
  },
  "language_info": {
   "codemirror_mode": {
    "name": "ipython",
    "version": 3
   },
   "file_extension": ".py",
   "mimetype": "text/x-python",
   "name": "python",
   "nbconvert_exporter": "python",
   "pygments_lexer": "ipython3",
   "version": "3.10.14"
  }
 },
 "nbformat": 4,
 "nbformat_minor": 4
}
