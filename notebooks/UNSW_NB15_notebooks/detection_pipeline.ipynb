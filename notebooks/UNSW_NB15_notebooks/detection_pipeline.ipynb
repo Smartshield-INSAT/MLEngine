{
 "cells": [
  {
   "cell_type": "markdown",
   "metadata": {},
   "source": [
    "# Importing Libraries"
   ]
  },
  {
   "cell_type": "code",
   "execution_count": 1,
   "metadata": {
    "execution": {
     "iopub.execute_input": "2024-11-10T16:15:23.095598Z",
     "iopub.status.busy": "2024-11-10T16:15:23.095012Z",
     "iopub.status.idle": "2024-11-10T16:15:26.414483Z",
     "shell.execute_reply": "2024-11-10T16:15:26.413505Z",
     "shell.execute_reply.started": "2024-11-10T16:15:23.095564Z"
    },
    "executionInfo": {
     "elapsed": 3,
     "status": "ok",
     "timestamp": 1729075875090,
     "user": {
      "displayName": "Haouas Med Amine",
      "userId": "10721525835865282645"
     },
     "user_tz": -60
    },
    "id": "TnnsSHZFpPrH",
    "trusted": true
   },
   "outputs": [],
   "source": [
    "import numpy as np\n",
    "import pandas as pd\n",
    "import matplotlib.pyplot as plt\n",
    "import plotly.express as px\n",
    "import seaborn as sns\n",
    "import optuna\n",
    "import warnings\n",
    "\n",
    "from sklearn.model_selection import train_test_split\n",
    "from catboost import CatBoostClassifier, Pool\n",
    "from sklearn.metrics import f1_score, precision_score, recall_score, roc_auc_score, confusion_matrix\n",
    "\n",
    "\n",
    "warnings.filterwarnings(\"ignore\")"
   ]
  },
  {
   "cell_type": "markdown",
   "metadata": {},
   "source": [
    "# Model Pipeline"
   ]
  },
  {
   "cell_type": "code",
   "execution_count": 2,
   "metadata": {
    "colab": {
     "base_uri": "https://localhost:8080/",
     "height": 383
    },
    "execution": {
     "iopub.execute_input": "2024-11-10T16:15:26.417317Z",
     "iopub.status.busy": "2024-11-10T16:15:26.416691Z",
     "iopub.status.idle": "2024-11-10T16:15:26.473632Z",
     "shell.execute_reply": "2024-11-10T16:15:26.472700Z",
     "shell.execute_reply.started": "2024-11-10T16:15:26.417280Z"
    },
    "executionInfo": {
     "elapsed": 1129,
     "status": "error",
     "timestamp": 1729078923319,
     "user": {
      "displayName": "Haouas Med Amine",
      "userId": "10721525835865282645"
     },
     "user_tz": -60
    },
    "id": "ihmL5zYWbbAR",
    "outputId": "811cea4f-e6c2-484d-d919-cf890aae98f0",
    "trusted": true
   },
   "outputs": [],
   "source": [
    "class CatBoostPipeline:\n",
    "    \"\"\"\n",
    "    Class to preprocess the dataset and train the CatBoost model\n",
    "\n",
    "    Attributes:\n",
    "        train_df : DataFrame : Training DataFrame\n",
    "        test_df : DataFrame : Test DataFrame\n",
    "        categorical_features : List : Categorical features in the dataset\n",
    "        numerical_features : List : Numerical features in the dataset\n",
    "        model : CatBoostClassifier : Trained CatBoost model\n",
    "        top_prop_categories : List : Top categories for 'proto' column\n",
    "        top_service_categories : List : Top categories for 'service' column\n",
    "        top_state_categories : List : Top categories for 'state' column\n",
    "        corr_threshold : float : Correlation threshold for removing highly correlated features\n",
    "        features_to_drop : List : Features to drop from the dataset\n",
    "\n",
    "    Methods:\n",
    "        basic_cleaning : Perform basic cleaning on the dataset\n",
    "        identify_feature_types : Identify the feature types in the dataset\n",
    "        handle_outliers : Handle outliers in the dataset\n",
    "        convert_data_types : Convert the data types of the columns in the dataset\n",
    "        selecting_categories : Select the top categories for the 'proto', 'service', and 'state' columns\n",
    "        transform_categories : Transform the categories in the 'proto', 'service', and 'state' columns\n",
    "        create_log1p_features : Create log1p features for the numerical columns in the dataset\n",
    "        remove_highly_correlated_features : Remove highly correlated features from the dataset\n",
    "        preprocess : Perform preprocessing on the dataset\n",
    "        create_pool : Create a CatBoost Pool object\n",
    "        train_model : Train the CatBoost model\n",
    "        objective : Objective function for Optuna hyperparameter tuning\n",
    "        optuna_tuning : Perform hyperparameter tuning using Optuna\n",
    "        train_with_optuna : Train the CatBoost model with hyperparameter tuning using Optuna\n",
    "\n",
    "    \"\"\"\n",
    "    def __init__(self, train_file_path, test_file_path):\n",
    "        self.train_df = pd.read_parquet(train_file_path)\n",
    "        self.test_df = pd.read_parquet(test_file_path)\n",
    "        self.categorical_features = []\n",
    "        self.numerical_features = []\n",
    "        self.model = None\n",
    "        self.top_prop_categories = None\n",
    "        self.top_service_categories = None\n",
    "        self.top_state_categories = None\n",
    "        self.corr_threshold = 0.95\n",
    "        self.features_to_drop = []  # Store features to drop\n",
    "\n",
    "    def basic_cleaning(self, df):\n",
    "        \"\"\"\n",
    "        Perform basic cleaning on the dataset\n",
    "\n",
    "        Args:\n",
    "            df : DataFrame : Input DataFrame\n",
    "\n",
    "        Returns:\n",
    "            DataFrame : Cleaned DataFrame\n",
    "        \"\"\"\n",
    "        columns_to_drop = ['swin', 'stcpb', 'dtcpb', 'dwin', 'attack_cat', 'response_body_len']\n",
    "        return df.drop(columns=columns_to_drop, axis=1)\n",
    "\n",
    "    def identify_feature_types(self, df):\n",
    "        \"\"\"\n",
    "        Identify the feature types in the dataset\n",
    "\n",
    "        Args:\n",
    "            df : DataFrame : Input DataFrame\n",
    "\n",
    "        Returns:\n",
    "            None\n",
    "        \"\"\"\n",
    "        self.categorical_features = df.select_dtypes(include=['category', 'object']).columns.tolist()\n",
    "        self.numerical_features = df.select_dtypes(include=['int8', 'int16', 'int32', 'int64', 'float32']).columns.tolist()\n",
    "        self.numerical_features = [col for col in self.numerical_features if col != 'label']\n",
    "\n",
    "    def handle_outliers(self, df):\n",
    "        \"\"\"\n",
    "        Handle outliers in the dataset\n",
    "\n",
    "        Args:\n",
    "            df : DataFrame : Input DataFrame\n",
    "\n",
    "        Returns:\n",
    "            DataFrame : DataFrame with outliers handled\n",
    "        \"\"\"\n",
    "        for column in self.numerical_features:\n",
    "            lower_bound = df[column].quantile(0.001)\n",
    "            upper_bound = df[column].quantile(0.999)\n",
    "            df[column] = df[column].clip(lower_bound, upper_bound)\n",
    "        return df\n",
    "\n",
    "    def convert_data_types(self, df):\n",
    "        \"\"\"\n",
    "        Convert the data types of the columns in the dataset\n",
    "\n",
    "        Args:\n",
    "            df : DataFrame : Input DataFrame\n",
    "\n",
    "        Returns:\n",
    "            DataFrame : DataFrame with converted data types\n",
    "        \"\"\"\n",
    "        for column in self.categorical_features:\n",
    "            df[column] = df[column].astype('category')\n",
    "        for column in self.numerical_features:\n",
    "            df[column] = df[column].astype('float32')\n",
    "        return df\n",
    "\n",
    "    def selecting_categories(self, df):\n",
    "        \"\"\"\n",
    "        Select the top categories for the 'proto', 'service', and 'state' columns\n",
    "\n",
    "        Args:\n",
    "            df : DataFrame : Input DataFrame\n",
    "\n",
    "        Returns:\n",
    "            Tuple : Top categories for 'proto', 'service', and 'state' columns\n",
    "        \"\"\"\n",
    "        top_prop_categories = df['proto'].value_counts().head(6).index\n",
    "        top_service_categories = df['service'].value_counts().head(8).index\n",
    "        top_state_categories = df['state'].value_counts().head(5).index\n",
    "        return top_prop_categories, top_service_categories, top_state_categories\n",
    "\n",
    "    def transform_categories(self, df, top_prop_categories, top_service_categories, top_state_categories):\n",
    "        \"\"\"\n",
    "        Transform the categories in the 'proto', 'service', and 'state' columns\n",
    "\n",
    "        Args:\n",
    "            df : DataFrame : Input DataFrame\n",
    "            top_prop_categories : List : Top categories for 'proto' column\n",
    "            top_service_categories : List : Top categories for 'service' column\n",
    "            top_state_categories : List : Top categories for 'state' column\n",
    "\n",
    "        Returns:\n",
    "            DataFrame : DataFrame with transformed categories\n",
    "        \"\"\"\n",
    "        df['proto'] = np.where(df['proto'].isin(top_prop_categories), df['proto'], '-')\n",
    "        df['service'] = np.where(df['service'].isin(top_service_categories), df['service'], '-')\n",
    "        df['state'] = np.where(df['state'].isin(top_state_categories), df['state'], '-')\n",
    "        return df\n",
    "\n",
    "    def create_log1p_features(self, df):\n",
    "        \"\"\"\n",
    "        Create log1p features for the numerical columns in the dataset\n",
    "\n",
    "        Args:\n",
    "            df : DataFrame : Input DataFrame\n",
    "\n",
    "        Returns:\n",
    "            DataFrame : DataFrame with log1p features\n",
    "        \"\"\"\n",
    "        log_features = [\n",
    "            'smean', 'dmean',\n",
    "            'sinpkt', 'dinpkt', 'sload', 'dload', 'sbytes', 'dbytes',\n",
    "            'sjit', 'djit',\n",
    "        ]\n",
    "        for feature in log_features:\n",
    "            if feature in df.columns:\n",
    "                df[feature] = np.log1p(df[feature])\n",
    "\n",
    "        return df\n",
    "    \n",
    "    def remove_highly_correlated_features(self, df, is_train=True):\n",
    "        \"\"\"\n",
    "        Remove highly correlated features from the dataset\n",
    "\n",
    "        Args:\n",
    "            df : DataFrame : Input DataFrame\n",
    "            is_train : bool : Whether the dataset is the training set\n",
    "\n",
    "        Returns:\n",
    "            DataFrame : DataFrame with highly correlated features removed\n",
    "        \"\"\"\n",
    "        if is_train:\n",
    "            corr_matrix = df[self.numerical_features].corr().abs()  # Get the correlation matrix of numerical features\n",
    "            upper_triangle = corr_matrix.where(np.triu(np.ones(corr_matrix.shape), k=1).astype(bool))\n",
    "\n",
    "            # Find features that have a correlation greater than the threshold\n",
    "            self.features_to_drop = [column for column in upper_triangle.columns if any(upper_triangle[column] > self.corr_threshold)]\n",
    "            print(f\"Removing highly correlated features in training: {self.features_to_drop}\")\n",
    "        else:\n",
    "            print(f\"Removing same highly correlated features in test: {self.features_to_drop}\")\n",
    "        \n",
    "        # Drop the highly correlated features (based on train set) from the dataframe\n",
    "        df = df.drop(columns=self.features_to_drop, axis=1)\n",
    "\n",
    "        # Update the numerical features list after dropping the highly correlated features\n",
    "        self.numerical_features = [col for col in self.numerical_features if col not in self.features_to_drop]\n",
    "        return df\n",
    "\n",
    "\n",
    "    def preprocess(self, is_train=True):\n",
    "        \"\"\"\n",
    "        Perform preprocessing on the dataset\n",
    "\n",
    "        Args:\n",
    "            is_train : bool : Whether the dataset is the training set\n",
    "\n",
    "        Returns:\n",
    "            Tuple : X, y\n",
    "        \"\"\"\n",
    "        # Get the DataFrame based on whether it is the training set or not\n",
    "        df = self.train_df if is_train else self.test_df\n",
    "\n",
    "        # Basic cleaning\n",
    "        df = self.basic_cleaning(df)\n",
    "\n",
    "        # Identify feature types\n",
    "        self.identify_feature_types(df)\n",
    "\n",
    "        # Handle outliers\n",
    "        df = self.handle_outliers(df) if is_train else df\n",
    "\n",
    "        # Select top categories\n",
    "        self.top_prop_categories, self.top_service_categories, self.top_state_categories = self.selecting_categories(df) if is_train else (self.top_prop_categories, self.top_service_categories, self.top_state_categories)\n",
    "\n",
    "        # Transform categories\n",
    "        df = self.transform_categories(df, self.top_prop_categories, self.top_service_categories, self.top_state_categories)\n",
    "        \n",
    "        # Log1p Feature Creation\n",
    "        df = self.create_log1p_features(df)\n",
    "\n",
    "        # Remove highly correlated features (use same features for both train and test)\n",
    "        df = self.remove_highly_correlated_features(df, is_train=is_train)\n",
    "\n",
    "        # Convert data types\n",
    "        df = self.convert_data_types(df)\n",
    "        \n",
    "        # Separate features and target\n",
    "        X = df.drop('label', axis=1)\n",
    "        y = df['label']\n",
    "\n",
    "        return X, y\n",
    "\n",
    "    def create_pool(self, X, y=None):\n",
    "        \"\"\"\n",
    "        Create a CatBoost Pool object\n",
    "\n",
    "        Args:\n",
    "            X : DataFrame : Input DataFrame\n",
    "            y : DataFrame : Target DataFrame\n",
    "\n",
    "        Returns:\n",
    "            Pool : CatBoost Pool object\n",
    "        \"\"\"\n",
    "        return Pool(\n",
    "            data=X,\n",
    "            label=y,\n",
    "            cat_features=self.categorical_features\n",
    "        )\n",
    "\n",
    "    def train_model(self, X_train, y_train, X_val=None, y_val=None):\n",
    "        \"\"\"\n",
    "        Train the CatBoost model\n",
    "\n",
    "        Args:\n",
    "            X_train : DataFrame : Training features\n",
    "            y_train : DataFrame : Training target\n",
    "            X_val : DataFrame : Validation features\n",
    "            y_val : DataFrame : Validation target\n",
    "\n",
    "        Returns:\n",
    "            CatBoostClassifier : Trained CatBoost model\n",
    "        \"\"\"\n",
    "        train_pool = self.create_pool(X_train, y_train)\n",
    "        val_pool = self.create_pool(X_val, y_val) if X_val is not None else None\n",
    "\n",
    "        model = CatBoostClassifier(\n",
    "            iterations=1000,\n",
    "            learning_rate=0.1,\n",
    "            depth=6,\n",
    "            loss_function='Logloss',\n",
    "            eval_metric='AUC',\n",
    "            task_type= 'GPU',\n",
    "            random_seed=17,\n",
    "            class_weights={0: 1, 1: len(y_train[y_train==0]) / len(y_train[y_train==1])},  # Handle class imbalance\n",
    "            verbose=100\n",
    "        )\n",
    "\n",
    "        model.fit(\n",
    "            train_pool,\n",
    "            eval_set=val_pool,\n",
    "            verbose=100\n",
    "        )\n",
    "\n",
    "        return model\n",
    "\n",
    "    def objective(self, trial, X_train, y_train, X_val, y_val):\n",
    "        \"\"\"\n",
    "        Objective function for Optuna hyperparameter tuning\n",
    "\n",
    "        Args:\n",
    "            trial : Trial : Optuna trial object\n",
    "            X_train : DataFrame : Training features\n",
    "            y_train : DataFrame : Training target\n",
    "            X_val : DataFrame : Validation features\n",
    "            y_val : DataFrame : Validation target\n",
    "\n",
    "        Returns:\n",
    "            float : AUC score\n",
    "        \"\"\"\n",
    "        # Define the hyperparameters to be tuned\n",
    "        params = {\n",
    "            'iterations': trial.suggest_int('iterations', 400, 1200),\n",
    "            'learning_rate': trial.suggest_float('learning_rate', 1e-2, 3e-1),\n",
    "            'depth': trial.suggest_int('depth', 4, 16),\n",
    "            'l2_leaf_reg': trial.suggest_float('l2_leaf_reg', 1e-3, 10.0),\n",
    "            'random_seed': 17,\n",
    "            'loss_function': 'Logloss',\n",
    "            'eval_metric': 'AUC',\n",
    "            'task_type': 'GPU',  # Enable GPU\n",
    "            'bootstrap_type': trial.suggest_categorical('bootstrap_type', ['Bayesian', 'Bernoulli', 'MVS']),\n",
    "            'class_weights': {0: 1, 1: len(y_train[y_train==0]) / len(y_train[y_train==1])},  # Handle class imbalance\n",
    "        }\n",
    "\n",
    "        # Additional parameters for Bayesian bootstrap\n",
    "        if params['bootstrap_type'] == 'Bayesian':\n",
    "            params['bagging_temperature'] = trial.suggest_float('bagging_temperature', 0, 10)\n",
    "        elif params['bootstrap_type'] == 'Bernoulli':\n",
    "            params['subsample'] = trial.suggest_float('subsample', 0.5, 1)\n",
    "\n",
    "        # Create CatBoost Pool objects for train and validation sets\n",
    "        train_pool = self.create_pool(X_train, y_train)\n",
    "        val_pool = self.create_pool(X_val, y_val)\n",
    "\n",
    "        # Initialize and train the CatBoost model\n",
    "        model = CatBoostClassifier(**params)\n",
    "        model.fit(\n",
    "            train_pool,\n",
    "            eval_set=val_pool,\n",
    "            verbose=100,\n",
    "            early_stopping_rounds= 100  # Add early stopping here\n",
    "        )\n",
    "\n",
    "        # Get the best AUC score from the validation set\n",
    "        auc = model.get_best_score()['validation']['AUC']\n",
    "\n",
    "        return auc\n",
    "\n",
    "    def optuna_tuning(self, X_train, y_train, X_val, y_val, n_trials=50):\n",
    "        \"\"\"\n",
    "        Perform hyperparameter tuning using Optuna\n",
    "\n",
    "        Args:\n",
    "            X_train : DataFrame : Training features\n",
    "            y_train : DataFrame : Training target\n",
    "            X_val : DataFrame : Validation features\n",
    "            y_val : DataFrame : Validation target\n",
    "            n_trials : int : Number of Optuna trials\n",
    "\n",
    "        Returns:\n",
    "            Dict : Best hyperparameters\n",
    "        \"\"\"\n",
    "        study = optuna.create_study(direction='maximize')\n",
    "        study.optimize(lambda trial: self.objective(trial, X_train, y_train, X_val, y_val), n_trials=n_trials)\n",
    "\n",
    "        # Print and return the best parameters found by Optuna\n",
    "        print(\"Best hyperparameters: \", study.best_params)\n",
    "        print(\"Best AUC: \", study.best_value)\n",
    "\n",
    "        return study.best_params\n",
    "\n",
    "    def train_with_optuna(self, X_train, y_train, X_val, y_val, tune=True, n_trials=50):\n",
    "        \"\"\"\n",
    "        Train the CatBoost model with hyperparameter tuning using Optuna\n",
    "\n",
    "        Args:\n",
    "            X_train : DataFrame : Training features\n",
    "            y_train : DataFrame : Training target\n",
    "            X_val : DataFrame : Validation features\n",
    "            y_val : DataFrame : Validation target\n",
    "            n_trials : int : Number of Optuna trials\n",
    "\n",
    "        Returns:\n",
    "            CatBoostClassifier : Trained CatBoost model\n",
    "        \"\"\"\n",
    "        if(tune):\n",
    "            # Tune hyperparameters\n",
    "            best_params = self.optuna_tuning(X_train, y_train, X_val, y_val, n_trials)\n",
    "        else:\n",
    "            best_params = {'iterations': 4545, 'learning_rate': 0.034781065245863746, 'depth': 9, 'l2_leaf_reg': 4.974504622139129, 'bootstrap_type': 'Bayesian', 'bagging_temperature': 0.17707455985311188}\n",
    "        # Train the model with the best hyperparameters\n",
    "        train_pool = self.create_pool(X_train, y_train)\n",
    "        val_pool = self.create_pool(X_val, y_val)\n",
    "\n",
    "        model = CatBoostClassifier(\n",
    "            **best_params,\n",
    "            task_type='GPU',  # Ensure GPU usage\n",
    "            eval_metric='AUC',\n",
    "            random_seed=17,\n",
    "            verbose=100,\n",
    "            class_weights={0: 1, 1: len(y_train[y_train==0]) / len(y_train[y_train==1])}\n",
    "        )\n",
    "\n",
    "        model.fit(\n",
    "            train_pool,\n",
    "            eval_set=val_pool,\n",
    "            verbose=100,\n",
    "            early_stopping_rounds= 100  # Add early stopping here\n",
    "        )\n",
    "\n",
    "        return model"
   ]
  },
  {
   "cell_type": "code",
   "execution_count": null,
   "metadata": {
    "execution": {
     "iopub.execute_input": "2024-11-10T16:15:26.475808Z",
     "iopub.status.busy": "2024-11-10T16:15:26.475519Z",
     "iopub.status.idle": "2024-11-10T16:15:26.497583Z",
     "shell.execute_reply": "2024-11-10T16:15:26.496695Z",
     "shell.execute_reply.started": "2024-11-10T16:15:26.475769Z"
    },
    "executionInfo": {
     "elapsed": 347,
     "status": "ok",
     "timestamp": 1729077710923,
     "user": {
      "displayName": "Haouas Med Amine",
      "userId": "10721525835865282645"
     },
     "user_tz": -60
    },
    "id": "LMN77q8OZcxF",
    "trusted": true
   },
   "outputs": [],
   "source": [
    "# Define the paths to the training and testing datasets\n",
    "train_path = ''\n",
    "test_path = ''"
   ]
  },
  {
   "cell_type": "code",
   "execution_count": 4,
   "metadata": {
    "colab": {
     "base_uri": "https://localhost:8080/"
    },
    "execution": {
     "iopub.execute_input": "2024-11-10T16:15:26.500621Z",
     "iopub.status.busy": "2024-11-10T16:15:26.500175Z",
     "iopub.status.idle": "2024-11-10T16:15:27.654092Z",
     "shell.execute_reply": "2024-11-10T16:15:27.653151Z",
     "shell.execute_reply.started": "2024-11-10T16:15:26.500589Z"
    },
    "executionInfo": {
     "elapsed": 148864,
     "status": "ok",
     "timestamp": 1729078478115,
     "user": {
      "displayName": "Haouas Med Amine",
      "userId": "10721525835865282645"
     },
     "user_tz": -60
    },
    "id": "XF_O1FjIk0Mo",
    "outputId": "feeaff05-3588-419f-a7f9-7e93065a2e66",
    "trusted": true
   },
   "outputs": [
    {
     "name": "stdout",
     "output_type": "stream",
     "text": [
      "Removing highly correlated features in training: ['dloss', 'synack', 'ackdat', 'dmean', 'ct_ftp_cmd']\n",
      "Removing same highly correlated features in test: ['dloss', 'synack', 'ackdat', 'dmean', 'ct_ftp_cmd']\n"
     ]
    }
   ],
   "source": [
    "# Usage example\n",
    "pipeline = CatBoostPipeline(train_path, test_path)\n",
    "\n",
    "# Preprocess training data\n",
    "X_train, y_train = pipeline.preprocess(is_train=True)\n",
    "X_test, y_test = pipeline.preprocess(is_train=False)\n",
    "\n",
    "# Split into training and validation sets\n",
    "X_test, X_val, y_test, y_val = train_test_split(X_test, y_test, test_size=0.5, random_state=17)"
   ]
  },
  {
   "cell_type": "code",
   "execution_count": 5,
   "metadata": {
    "execution": {
     "iopub.execute_input": "2024-11-10T16:15:27.656357Z",
     "iopub.status.busy": "2024-11-10T16:15:27.655758Z",
     "iopub.status.idle": "2024-11-10T16:16:25.874936Z",
     "shell.execute_reply": "2024-11-10T16:16:25.873978Z",
     "shell.execute_reply.started": "2024-11-10T16:15:27.656296Z"
    },
    "trusted": true
   },
   "outputs": [
    {
     "name": "stderr",
     "output_type": "stream",
     "text": [
      "Default metric period is 5 because AUC is/are not implemented for GPU\n"
     ]
    },
    {
     "name": "stdout",
     "output_type": "stream",
     "text": [
      "0:\ttest: 0.9406537\tbest: 0.9406537 (0)\ttotal: 12.3s\tremaining: 3h 24m 6s\n",
      "100:\ttest: 0.9770193\tbest: 0.9770193 (100)\ttotal: 14.4s\tremaining: 2m 8s\n",
      "200:\ttest: 0.9786920\tbest: 0.9786920 (200)\ttotal: 16.6s\tremaining: 1m 6s\n",
      "300:\ttest: 0.9790505\tbest: 0.9790505 (300)\ttotal: 18.8s\tremaining: 43.6s\n",
      "400:\ttest: 0.9792953\tbest: 0.9793031 (395)\ttotal: 20.9s\tremaining: 31.3s\n",
      "500:\ttest: 0.9794262\tbest: 0.9794262 (500)\ttotal: 23.1s\tremaining: 23s\n",
      "600:\ttest: 0.9795108\tbest: 0.9795108 (600)\ttotal: 25.3s\tremaining: 16.8s\n",
      "700:\ttest: 0.9795111\tbest: 0.9795270 (690)\ttotal: 27.4s\tremaining: 11.7s\n",
      "800:\ttest: 0.9795713\tbest: 0.9795971 (785)\ttotal: 29.7s\tremaining: 7.37s\n",
      "900:\ttest: 0.9796284\tbest: 0.9796284 (900)\ttotal: 31.9s\tremaining: 3.5s\n",
      "999:\ttest: 0.9795990\tbest: 0.9796501 (920)\ttotal: 34s\tremaining: 0us\n",
      "bestTest = 0.97965011\n",
      "bestIteration = 920\n",
      "Shrink model to first 921 iterations.\n"
     ]
    }
   ],
   "source": [
    "# Train baseline model\n",
    "model = pipeline.train_model(X_train, y_train, X_val, y_val)"
   ]
  },
  {
   "cell_type": "code",
   "execution_count": 6,
   "metadata": {
    "execution": {
     "iopub.execute_input": "2024-11-10T16:16:25.876382Z",
     "iopub.status.busy": "2024-11-10T16:16:25.876058Z",
     "iopub.status.idle": "2024-11-10T16:16:25.970212Z",
     "shell.execute_reply": "2024-11-10T16:16:25.969267Z",
     "shell.execute_reply.started": "2024-11-10T16:16:25.876348Z"
    },
    "executionInfo": {
     "elapsed": 293,
     "status": "ok",
     "timestamp": 1729078482138,
     "user": {
      "displayName": "Haouas Med Amine",
      "userId": "10721525835865282645"
     },
     "user_tz": -60
    },
    "id": "qFjlJ2i6n2QP",
    "trusted": true
   },
   "outputs": [],
   "source": [
    "# Create test pool and make predictions\n",
    "test_pool = pipeline.create_pool(X_test)\n",
    "predictions = model.predict(test_pool)\n",
    "predictions_prob = model.predict_proba(test_pool)[:, 1]"
   ]
  },
  {
   "cell_type": "code",
   "execution_count": 7,
   "metadata": {
    "colab": {
     "base_uri": "https://localhost:8080/",
     "height": 651
    },
    "execution": {
     "iopub.execute_input": "2024-11-10T16:16:25.971649Z",
     "iopub.status.busy": "2024-11-10T16:16:25.971316Z",
     "iopub.status.idle": "2024-11-10T16:16:26.217369Z",
     "shell.execute_reply": "2024-11-10T16:16:26.216386Z",
     "shell.execute_reply.started": "2024-11-10T16:16:25.971617Z"
    },
    "executionInfo": {
     "elapsed": 1205,
     "status": "ok",
     "timestamp": 1729078553531,
     "user": {
      "displayName": "Haouas Med Amine",
      "userId": "10721525835865282645"
     },
     "user_tz": -60
    },
    "id": "i0EvckHRaqIA",
    "outputId": "97c8d3d6-0df7-4bcb-dc21-2f4a32a79c73",
    "trusted": true
   },
   "outputs": [
    {
     "name": "stdout",
     "output_type": "stream",
     "text": [
      "F1 Score: 0.9142330288605858\n",
      "Precision: 0.8879216992919616\n",
      "Recall: 0.9421513169524482\n",
      "AUC: 0.9790193231745836\n"
     ]
    },
    {
     "data": {
      "image/png": "[encoded data removed]",
      "text/plain": [
       "<Figure size 800x600 with 1 Axes>"
      ]
     },
     "metadata": {},
     "output_type": "display_data"
    }
   ],
   "source": [
    "# Compute metrics\n",
    "f1 = f1_score(y_test, predictions)\n",
    "precision = precision_score(y_test, predictions)\n",
    "recall = recall_score(y_test, predictions)\n",
    "auc = roc_auc_score(y_test, predictions_prob)\n",
    "\n",
    "# Confusion matrix\n",
    "conf_matrix = confusion_matrix(y_test, predictions)\n",
    "\n",
    "# Print metrics\n",
    "print(f\"F1 Score: {f1}\")\n",
    "print(f\"Precision: {precision}\")\n",
    "print(f\"Recall: {recall}\")\n",
    "print(f\"AUC: {auc}\")\n",
    "\n",
    "# Plot confusion matrix using seaborn\n",
    "plt.figure(figsize=(8, 6))\n",
    "sns.heatmap(conf_matrix, annot=True, fmt=\"d\", cmap=\"Blues\", cbar=False)\n",
    "plt.title(\"Confusion Matrix\")\n",
    "plt.xlabel(\"Predicted\")\n",
    "plt.ylabel(\"Actual\")\n",
    "plt.show()"
   ]
  },
  {
   "cell_type": "code",
   "execution_count": 8,
   "metadata": {
    "execution": {
     "iopub.execute_input": "2024-11-10T16:16:26.218827Z",
     "iopub.status.busy": "2024-11-10T16:16:26.218526Z",
     "iopub.status.idle": "2024-11-10T16:16:26.780434Z",
     "shell.execute_reply": "2024-11-10T16:16:26.779288Z",
     "shell.execute_reply.started": "2024-11-10T16:16:26.218794Z"
    },
    "trusted": true
   },
   "outputs": [
    {
     "data": {
      "image/png": "[encoded data removed]",
      "text/plain": [
       "<Figure size 1000x600 with 1 Axes>"
      ]
     },
     "metadata": {},
     "output_type": "display_data"
    }
   ],
   "source": [
    "# Get feature importance\n",
    "feature_importances = model.get_feature_importance()\n",
    "\n",
    "# Create a DataFrame for better visualization\n",
    "features_df = pd.DataFrame({\n",
    "    'Feature': model.feature_names_,\n",
    "    'Importance': feature_importances\n",
    "}).sort_values(by='Importance', ascending=False)\n",
    "\n",
    "def plot_feature_importance(top_n=20):\n",
    "    \"\"\"Plots the top N important features.\"\"\"\n",
    "\n",
    "    # Select top N features\n",
    "    top_features = features_df.head(top_n)\n",
    "\n",
    "    plt.figure(figsize=(10, 6))\n",
    "    sns.barplot(x='Importance', y='Feature', data=top_features)\n",
    "    plt.title(f'Top {top_n} Most Important Features')\n",
    "    plt.xlabel('Importance')\n",
    "    plt.ylabel('Feature')\n",
    "    plt.tight_layout()\n",
    "    plt.show()\n",
    "\n",
    "plot_feature_importance()"
   ]
  },
  {
   "cell_type": "code",
   "execution_count": 9,
   "metadata": {
    "colab": {
     "base_uri": "https://localhost:8080/",
     "height": 141
    },
    "execution": {
     "iopub.execute_input": "2024-11-10T16:16:26.782219Z",
     "iopub.status.busy": "2024-11-10T16:16:26.781803Z",
     "iopub.status.idle": "2024-11-10T16:17:12.318523Z",
     "shell.execute_reply": "2024-11-10T16:17:12.317510Z",
     "shell.execute_reply.started": "2024-11-10T16:16:26.782163Z"
    },
    "executionInfo": {
     "elapsed": 295,
     "status": "error",
     "timestamp": 1729078917777,
     "user": {
      "displayName": "Haouas Med Amine",
      "userId": "10721525835865282645"
     },
     "user_tz": -60
    },
    "id": "G32i6C5SIkWg",
    "outputId": "167eeb68-964e-429e-e3b4-17d30e78ddd7",
    "trusted": true
   },
   "outputs": [
    {
     "name": "stderr",
     "output_type": "stream",
     "text": [
      "Default metric period is 5 because AUC is/are not implemented for GPU\n"
     ]
    },
    {
     "name": "stdout",
     "output_type": "stream",
     "text": [
      "0:\ttest: 0.9628063\tbest: 0.9628063 (0)\ttotal: 60.7ms\tremaining: 4m 35s\n",
      "100:\ttest: 0.9775341\tbest: 0.9775341 (100)\ttotal: 6.08s\tremaining: 4m 27s\n",
      "200:\ttest: 0.9791119\tbest: 0.9791119 (200)\ttotal: 12s\tremaining: 4m 20s\n",
      "300:\ttest: 0.9797949\tbest: 0.9797969 (297)\ttotal: 17.9s\tremaining: 4m 13s\n",
      "400:\ttest: 0.9801526\tbest: 0.9801526 (398)\ttotal: 23.9s\tremaining: 4m 7s\n",
      "500:\ttest: 0.9803380\tbest: 0.9803388 (489)\ttotal: 29.9s\tremaining: 4m 1s\n",
      "600:\ttest: 0.9804087\tbest: 0.9804150 (586)\ttotal: 35.9s\tremaining: 3m 55s\n",
      "700:\ttest: 0.9803909\tbest: 0.9804357 (651)\ttotal: 41.8s\tremaining: 3m 49s\n",
      "bestTest = 0.9804356694\n",
      "bestIteration = 651\n",
      "Shrink model to first 652 iterations.\n"
     ]
    }
   ],
   "source": [
    "# Train the model with hyperparameter tuning\n",
    "model = pipeline.train_with_optuna(X_train, y_train, X_val, y_val, tune=False, n_trials=50)"
   ]
  },
  {
   "cell_type": "code",
   "execution_count": 10,
   "metadata": {
    "execution": {
     "iopub.execute_input": "2024-11-10T16:17:12.322316Z",
     "iopub.status.busy": "2024-11-10T16:17:12.321986Z",
     "iopub.status.idle": "2024-11-10T16:17:12.481278Z",
     "shell.execute_reply": "2024-11-10T16:17:12.480206Z",
     "shell.execute_reply.started": "2024-11-10T16:17:12.322283Z"
    },
    "trusted": true
   },
   "outputs": [],
   "source": [
    "# Create test pool and make predictions\n",
    "test_pool = pipeline.create_pool(X_test)\n",
    "predictions = model.predict(test_pool)\n",
    "predictions_prob = model.predict_proba(test_pool)[:, 1]"
   ]
  },
  {
   "cell_type": "code",
   "execution_count": 11,
   "metadata": {
    "execution": {
     "iopub.execute_input": "2024-11-10T16:17:12.483043Z",
     "iopub.status.busy": "2024-11-10T16:17:12.482701Z",
     "iopub.status.idle": "2024-11-10T16:17:12.720755Z",
     "shell.execute_reply": "2024-11-10T16:17:12.719723Z",
     "shell.execute_reply.started": "2024-11-10T16:17:12.482998Z"
    },
    "trusted": true
   },
   "outputs": [
    {
     "name": "stdout",
     "output_type": "stream",
     "text": [
      "F1 Score: 0.9154309993347782\n",
      "Precision: 0.8897509698410712\n",
      "Recall: 0.9426374403394026\n",
      "AUC: 0.9799249859820971\n"
     ]
    },
    {
     "data": {
      "image/png": "[encoded data removed]",
      "text/plain": [
       "<Figure size 800x600 with 1 Axes>"
      ]
     },
     "metadata": {},
     "output_type": "display_data"
    }
   ],
   "source": [
    "from sklearn.metrics import f1_score, precision_score, recall_score, roc_auc_score, confusion_matrix\n",
    "import seaborn as sns\n",
    "import matplotlib.pyplot as plt\n",
    "\n",
    "# Compute metrics\n",
    "f1 = f1_score(y_test, predictions)\n",
    "precision = precision_score(y_test, predictions)\n",
    "recall = recall_score(y_test, predictions)\n",
    "auc = roc_auc_score(y_test, predictions_prob)\n",
    "\n",
    "# Confusion matrix\n",
    "conf_matrix = confusion_matrix(y_test, predictions)\n",
    "\n",
    "# Print metrics\n",
    "print(f\"F1 Score: {f1}\")\n",
    "print(f\"Precision: {precision}\")\n",
    "print(f\"Recall: {recall}\")\n",
    "print(f\"AUC: {auc}\")\n",
    "\n",
    "# Plot confusion matrix using seaborn\n",
    "plt.figure(figsize=(8, 6))\n",
    "sns.heatmap(conf_matrix, annot=True, fmt=\"d\", cmap=\"Blues\", cbar=False)\n",
    "plt.title(\"Confusion Matrix\")\n",
    "plt.xlabel(\"Predicted\")\n",
    "plt.ylabel(\"Actual\")\n",
    "plt.show()\n"
   ]
  },
  {
   "cell_type": "code",
   "execution_count": 12,
   "metadata": {
    "execution": {
     "iopub.execute_input": "2024-11-10T16:17:12.722861Z",
     "iopub.status.busy": "2024-11-10T16:17:12.722306Z",
     "iopub.status.idle": "2024-11-10T16:17:13.246145Z",
     "shell.execute_reply": "2024-11-10T16:17:13.245065Z",
     "shell.execute_reply.started": "2024-11-10T16:17:12.722816Z"
    },
    "trusted": true
   },
   "outputs": [
    {
     "data": {
      "image/png": "[encoded data removed]",
      "text/plain": [
       "<Figure size 1000x600 with 1 Axes>"
      ]
     },
     "metadata": {},
     "output_type": "display_data"
    }
   ],
   "source": [
    "# Get feature importance\n",
    "feature_importances = model.get_feature_importance()\n",
    "\n",
    "# Create a DataFrame for better visualization\n",
    "features_df = pd.DataFrame({\n",
    "    'Feature': model.feature_names_,\n",
    "    'Importance': feature_importances\n",
    "}).sort_values(by='Importance', ascending=False)\n",
    "\n",
    "def plot_feature_importance(top_n=20):\n",
    "    \"\"\"Plots the top N important features.\"\"\"\n",
    "\n",
    "    # Select top N features\n",
    "    top_features = features_df.head(top_n)\n",
    "\n",
    "    plt.figure(figsize=(10, 6))\n",
    "    sns.barplot(x='Importance', y='Feature', data=top_features)\n",
    "    plt.title(f'Top {top_n} Most Important Features')\n",
    "    plt.xlabel('Importance')\n",
    "    plt.ylabel('Feature')\n",
    "    plt.tight_layout()\n",
    "    plt.show()\n",
    "\n",
    "plot_feature_importance()"
   ]
  }
 ],
 "metadata": {
  "accelerator": "GPU",
  "colab": {
   "authorship_tag": "ABX9TyPKm5aEnDucAiM5H6eCugQa",
   "gpuType": "T4",
   "mount_file_id": "1sOikQEKH7NguCPqB7Db19xNo3Gkw96xT",
   "provenance": []
  },
  "kaggle": {
   "accelerator": "gpu",
   "dataSources": [
    {
     "datasetId": 111554,
     "sourceId": 267091,
     "sourceType": "datasetVersion"
    },
    {
     "datasetId": 2391328,
     "sourceId": 9350725,
     "sourceType": "datasetVersion"
    },
    {
     "datasetId": 5902893,
     "sourceId": 9661575,
     "sourceType": "datasetVersion"
    },
    {
     "datasetId": 6046474,
     "sourceId": 9853450,
     "sourceType": "datasetVersion"
    }
   ],
   "dockerImageVersionId": 30787,
   "isGpuEnabled": true,
   "isInternetEnabled": true,
   "language": "python",
   "sourceType": "notebook"
  },
  "kernelspec": {
   "display_name": "Python 3",
   "language": "python",
   "name": "python3"
  },
  "language_info": {
   "codemirror_mode": {
    "name": "ipython",
    "version": 3
   },
   "file_extension": ".py",
   "mimetype": "text/x-python",
   "name": "python",
   "nbconvert_exporter": "python",
   "pygments_lexer": "ipython3",
   "version": "3.10.14"
  }
 },
 "nbformat": 4,
 "nbformat_minor": 4
}
